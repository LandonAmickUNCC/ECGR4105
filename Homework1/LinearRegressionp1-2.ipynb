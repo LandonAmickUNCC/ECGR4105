{
  "nbformat": 4,
  "nbformat_minor": 0,
  "metadata": {
    "colab": {
      "provenance": [],
      "include_colab_link": true
    },
    "kernelspec": {
      "name": "python3",
      "display_name": "Python 3"
    },
    "language_info": {
      "name": "python"
    }
  },
  "cells": [
    {
      "cell_type": "markdown",
      "metadata": {
        "id": "view-in-github",
        "colab_type": "text"
      },
      "source": [
        "<a href=\"https://colab.research.google.com/github/LandonAmickUNCC/ECGR4105/blob/main/Homework1/LinearRegressionp1-2.ipynb\" target=\"_parent\"><img src=\"https://colab.research.google.com/assets/colab-badge.svg\" alt=\"Open In Colab\"/></a>"
      ]
    },
    {
      "cell_type": "code",
      "execution_count": 3,
      "metadata": {
        "id": "TxG4cE0l3fag"
      },
      "outputs": [],
      "source": [
        "import numpy as np\n",
        "import pandas as pd\n",
        "import matplotlib.pyplot as plt"
      ]
    },
    {
      "cell_type": "code",
      "source": [
        "# Use the URL for the raw CSV data -- more datasets can be find here: https://github.com/satishgunjal/datasets\n",
        "url = 'https://raw.githubusercontent.com/HamedTabkhi/Intro-to-ML/main/Dataset/D3.csv'\n",
        "\n",
        "df = pd.read_csv(url)\n",
        "\n",
        "# Display the first 5 rows of the DataFrame\n",
        "print(df.head())"
      ],
      "metadata": {
        "colab": {
          "base_uri": "https://localhost:8080/"
        },
        "id": "REKAfAdR4MmV",
        "outputId": "ea0659c9-e62f-4199-edb1-7c2c995999db"
      },
      "execution_count": 4,
      "outputs": [
        {
          "output_type": "stream",
          "name": "stdout",
          "text": [
            "         X1        X2        X3         Y\n",
            "0  0.000000  3.440000  0.440000  4.387545\n",
            "1  0.040404  0.134949  0.888485  2.679650\n",
            "2  0.080808  0.829899  1.336970  2.968490\n",
            "3  0.121212  1.524848  1.785455  3.254065\n",
            "4  0.161616  2.219798  2.233939  3.536375\n"
          ]
        }
      ]
    },
    {
      "cell_type": "code",
      "source": [
        "# Separate features and labels\n",
        "X1 = df.values[:, 0]  # get input values from first column -- X is a list here\n",
        "X2 = df.values[:, 1]\n",
        "X3 = df.values[:, 2]\n",
        "y = df.values[:, 1]  # get output values from second column -- Y is the list here\n",
        "m = len(y)  # Number of training examples\n",
        "n = len(X1)  # Number of training examples\n",
        "\n",
        "\n",
        "# Display first 5 records and the total number of training examples\n",
        "print('X1 = ', X1[: 5])\n",
        "print('X2 = ', X2[: 5])\n",
        "print('X3 = ', X3[: 5])\n",
        "print('y = ', y[: 5])\n",
        "print('m = ', m)\n",
        "print('n = ', n)"
      ],
      "metadata": {
        "colab": {
          "base_uri": "https://localhost:8080/"
        },
        "id": "WpU_RLhk4Ul-",
        "outputId": "9c28d439-be7d-4375-8af0-62c5630731e0"
      },
      "execution_count": 5,
      "outputs": [
        {
          "output_type": "stream",
          "name": "stdout",
          "text": [
            "X1 =  [0.         0.04040404 0.08080808 0.12121212 0.16161616]\n",
            "X2 =  [3.44       0.1349495  0.82989899 1.52484848 2.21979798]\n",
            "X3 =  [0.44       0.88848485 1.3369697  1.78545454 2.23393939]\n",
            "y =  [3.44       0.1349495  0.82989899 1.52484848 2.21979798]\n",
            "m =  100\n",
            "n =  100\n"
          ]
        }
      ]
    },
    {
      "cell_type": "code",
      "source": [
        "#Prints all\n",
        "print('X1 = ', X1[: m])\n",
        "print('X2 = ', X2[: m])\n",
        "print('X3 = ', X3[: m])\n",
        "print('y = ', y[: m])\n"
      ],
      "metadata": {
        "colab": {
          "base_uri": "https://localhost:8080/"
        },
        "id": "2NVibmcQ9zQ7",
        "outputId": "e80f14fe-6122-4ea6-ab9c-7a3cca949cb2"
      },
      "execution_count": 6,
      "outputs": [
        {
          "output_type": "stream",
          "name": "stdout",
          "text": [
            "X1 =  [0.         0.04040404 0.08080808 0.12121212 0.16161616 0.2020202\n",
            " 0.24242424 0.28282828 0.32323232 0.36363636 0.4040404  0.44444444\n",
            " 0.48484848 0.52525252 0.56565657 0.60606061 0.64646465 0.68686869\n",
            " 0.72727273 0.76767677 0.80808081 0.84848485 0.88888889 0.92929293\n",
            " 0.96969697 1.01010101 1.05050505 1.09090909 1.13131313 1.17171717\n",
            " 1.21212121 1.25252525 1.29292929 1.33333333 1.37373737 1.41414141\n",
            " 1.45454546 1.49494949 1.53535354 1.57575758 1.61616162 1.65656566\n",
            " 1.6969697  1.73737374 1.77777778 1.81818182 1.85858586 1.8989899\n",
            " 1.93939394 1.97979798 2.02020202 2.06060606 2.1010101  2.14141414\n",
            " 2.18181818 2.22222222 2.26262626 2.3030303  2.34343434 2.38383838\n",
            " 2.42424242 2.46464646 2.5050505  2.54545455 2.58585859 2.62626263\n",
            " 2.66666667 2.70707071 2.74747475 2.78787879 2.82828283 2.86868687\n",
            " 2.90909091 2.94949495 2.98989899 3.03030303 3.07070707 3.11111111\n",
            " 3.15151515 3.19191919 3.23232323 3.27272727 3.31313131 3.35353535\n",
            " 3.39393939 3.43434343 3.47474748 3.51515151 3.55555556 3.5959596\n",
            " 3.63636364 3.67676768 3.71717172 3.75757576 3.7979798  3.83838384\n",
            " 3.87878788 3.91919192 3.95959596 4.        ]\n",
            "X2 =  [3.44       0.1349495  0.82989899 1.52484848 2.21979798 2.91474747\n",
            " 3.60969697 0.30464646 0.99959596 1.69454546 2.38949495 3.08444444\n",
            " 3.77939394 0.47434343 1.16929293 1.86424242 2.55919192 3.25414141\n",
            " 3.94909091 0.6440404  1.3389899  2.03393939 2.72888889 3.42383838\n",
            " 0.11878788 0.81373737 1.50868687 2.20363636 2.89858586 3.59353535\n",
            " 0.28848485 0.98343434 1.67838384 2.37333333 3.06828283 3.76323232\n",
            " 0.45818182 1.15313131 1.84808081 2.5430303  3.2379798  3.93292929\n",
            " 0.62787879 1.32282828 2.01777778 2.71272727 3.40767677 0.10262626\n",
            " 0.79757576 1.49252525 2.18747475 2.88242424 3.57737374 0.27232323\n",
            " 0.96727273 1.66222222 2.35717172 3.05212121 3.74707071 0.4420202\n",
            " 1.1369697  1.83191919 2.52686869 3.22181818 3.91676768 0.61171717\n",
            " 1.30666667 2.00161616 2.69656566 3.39151515 0.08646465 0.78141414\n",
            " 1.47636364 2.17131313 2.86626263 3.56121212 0.25616162 0.95111111\n",
            " 1.64606061 2.3410101  3.0359596  3.73090909 0.42585859 1.12080808\n",
            " 1.81575758 2.51070707 3.20565657 3.90060606 0.59555556 1.29050505\n",
            " 1.98545455 2.68040404 3.37535353 0.07030303 0.76525252 1.46020202\n",
            " 2.15515152 2.85010101 3.5450505  0.24      ]\n",
            "X3 =  [0.44       0.88848485 1.3369697  1.78545454 2.23393939 2.68242424\n",
            " 3.13090909 3.57939394 0.02787879 0.47636364 0.92484849 1.37333333\n",
            " 1.82181818 2.27030303 2.71878788 3.16727273 3.61575758 0.06424242\n",
            " 0.51272727 0.96121212 1.40969697 1.85818182 2.30666667 2.75515152\n",
            " 3.20363636 3.65212121 0.10060606 0.54909091 0.99757576 1.44606061\n",
            " 1.89454546 2.3430303  2.79151515 3.24       3.68848485 0.1369697\n",
            " 0.58545455 1.03393939 1.48242424 1.93090909 2.37939394 2.82787879\n",
            " 3.27636364 3.72484848 0.17333333 0.62181818 1.07030303 1.51878788\n",
            " 1.96727273 2.41575758 2.86424242 3.31272727 3.76121212 0.20969697\n",
            " 0.65818182 1.10666667 1.55515151 2.00363636 2.45212121 2.90060606\n",
            " 3.34909091 3.79757576 0.24606061 0.69454545 1.1430303  1.59151515\n",
            " 2.04       2.48848485 2.9369697  3.38545454 3.83393939 0.28242424\n",
            " 0.73090909 1.17939394 1.62787879 2.07636364 2.52484849 2.97333333\n",
            " 3.42181818 3.87030303 0.31878788 0.76727273 1.21575758 1.66424242\n",
            " 2.11272727 2.56121212 3.00969697 3.45818182 3.90666667 0.35515151\n",
            " 0.80363636 1.25212121 1.70060606 2.14909091 2.59757576 3.04606061\n",
            " 3.49454545 3.9430303  0.39151515 0.84      ]\n",
            "y =  [3.44       0.1349495  0.82989899 1.52484848 2.21979798 2.91474747\n",
            " 3.60969697 0.30464646 0.99959596 1.69454546 2.38949495 3.08444444\n",
            " 3.77939394 0.47434343 1.16929293 1.86424242 2.55919192 3.25414141\n",
            " 3.94909091 0.6440404  1.3389899  2.03393939 2.72888889 3.42383838\n",
            " 0.11878788 0.81373737 1.50868687 2.20363636 2.89858586 3.59353535\n",
            " 0.28848485 0.98343434 1.67838384 2.37333333 3.06828283 3.76323232\n",
            " 0.45818182 1.15313131 1.84808081 2.5430303  3.2379798  3.93292929\n",
            " 0.62787879 1.32282828 2.01777778 2.71272727 3.40767677 0.10262626\n",
            " 0.79757576 1.49252525 2.18747475 2.88242424 3.57737374 0.27232323\n",
            " 0.96727273 1.66222222 2.35717172 3.05212121 3.74707071 0.4420202\n",
            " 1.1369697  1.83191919 2.52686869 3.22181818 3.91676768 0.61171717\n",
            " 1.30666667 2.00161616 2.69656566 3.39151515 0.08646465 0.78141414\n",
            " 1.47636364 2.17131313 2.86626263 3.56121212 0.25616162 0.95111111\n",
            " 1.64606061 2.3410101  3.0359596  3.73090909 0.42585859 1.12080808\n",
            " 1.81575758 2.51070707 3.20565657 3.90060606 0.59555556 1.29050505\n",
            " 1.98545455 2.68040404 3.37535353 0.07030303 0.76525252 1.46020202\n",
            " 2.15515152 2.85010101 3.5450505  0.24      ]\n"
          ]
        }
      ]
    },
    {
      "cell_type": "markdown",
      "source": [
        "X1"
      ],
      "metadata": {
        "id": "yDYkoa6LHEHl"
      }
    },
    {
      "cell_type": "code",
      "source": [
        "from IPython.display import display\n",
        "display(df)"
      ],
      "metadata": {
        "colab": {
          "base_uri": "https://localhost:8080/",
          "height": 423
        },
        "id": "fhNCJh3e-lCm",
        "outputId": "9b4f6066-db61-4368-f15a-8f51d112e63a"
      },
      "execution_count": 25,
      "outputs": [
        {
          "output_type": "display_data",
          "data": {
            "text/plain": [
              "          X1        X2        X3         Y\n",
              "0   0.000000  3.440000  0.440000  4.387545\n",
              "1   0.040404  0.134949  0.888485  2.679650\n",
              "2   0.080808  0.829899  1.336970  2.968490\n",
              "3   0.121212  1.524848  1.785455  3.254065\n",
              "4   0.161616  2.219798  2.233939  3.536375\n",
              "..       ...       ...       ...       ...\n",
              "95  3.838384  1.460202  3.046061 -4.440595\n",
              "96  3.878788  2.155152  3.494545 -4.458663\n",
              "97  3.919192  2.850101  3.943030 -4.479995\n",
              "98  3.959596  3.545051  0.391515 -3.304593\n",
              "99  4.000000  0.240000  0.840000 -5.332455\n",
              "\n",
              "[100 rows x 4 columns]"
            ],
            "text/html": [
              "\n",
              "  <div id=\"df-7a922d85-5468-4f06-9e82-c79491aa1550\" class=\"colab-df-container\">\n",
              "    <div>\n",
              "<style scoped>\n",
              "    .dataframe tbody tr th:only-of-type {\n",
              "        vertical-align: middle;\n",
              "    }\n",
              "\n",
              "    .dataframe tbody tr th {\n",
              "        vertical-align: top;\n",
              "    }\n",
              "\n",
              "    .dataframe thead th {\n",
              "        text-align: right;\n",
              "    }\n",
              "</style>\n",
              "<table border=\"1\" class=\"dataframe\">\n",
              "  <thead>\n",
              "    <tr style=\"text-align: right;\">\n",
              "      <th></th>\n",
              "      <th>X1</th>\n",
              "      <th>X2</th>\n",
              "      <th>X3</th>\n",
              "      <th>Y</th>\n",
              "    </tr>\n",
              "  </thead>\n",
              "  <tbody>\n",
              "    <tr>\n",
              "      <th>0</th>\n",
              "      <td>0.000000</td>\n",
              "      <td>3.440000</td>\n",
              "      <td>0.440000</td>\n",
              "      <td>4.387545</td>\n",
              "    </tr>\n",
              "    <tr>\n",
              "      <th>1</th>\n",
              "      <td>0.040404</td>\n",
              "      <td>0.134949</td>\n",
              "      <td>0.888485</td>\n",
              "      <td>2.679650</td>\n",
              "    </tr>\n",
              "    <tr>\n",
              "      <th>2</th>\n",
              "      <td>0.080808</td>\n",
              "      <td>0.829899</td>\n",
              "      <td>1.336970</td>\n",
              "      <td>2.968490</td>\n",
              "    </tr>\n",
              "    <tr>\n",
              "      <th>3</th>\n",
              "      <td>0.121212</td>\n",
              "      <td>1.524848</td>\n",
              "      <td>1.785455</td>\n",
              "      <td>3.254065</td>\n",
              "    </tr>\n",
              "    <tr>\n",
              "      <th>4</th>\n",
              "      <td>0.161616</td>\n",
              "      <td>2.219798</td>\n",
              "      <td>2.233939</td>\n",
              "      <td>3.536375</td>\n",
              "    </tr>\n",
              "    <tr>\n",
              "      <th>...</th>\n",
              "      <td>...</td>\n",
              "      <td>...</td>\n",
              "      <td>...</td>\n",
              "      <td>...</td>\n",
              "    </tr>\n",
              "    <tr>\n",
              "      <th>95</th>\n",
              "      <td>3.838384</td>\n",
              "      <td>1.460202</td>\n",
              "      <td>3.046061</td>\n",
              "      <td>-4.440595</td>\n",
              "    </tr>\n",
              "    <tr>\n",
              "      <th>96</th>\n",
              "      <td>3.878788</td>\n",
              "      <td>2.155152</td>\n",
              "      <td>3.494545</td>\n",
              "      <td>-4.458663</td>\n",
              "    </tr>\n",
              "    <tr>\n",
              "      <th>97</th>\n",
              "      <td>3.919192</td>\n",
              "      <td>2.850101</td>\n",
              "      <td>3.943030</td>\n",
              "      <td>-4.479995</td>\n",
              "    </tr>\n",
              "    <tr>\n",
              "      <th>98</th>\n",
              "      <td>3.959596</td>\n",
              "      <td>3.545051</td>\n",
              "      <td>0.391515</td>\n",
              "      <td>-3.304593</td>\n",
              "    </tr>\n",
              "    <tr>\n",
              "      <th>99</th>\n",
              "      <td>4.000000</td>\n",
              "      <td>0.240000</td>\n",
              "      <td>0.840000</td>\n",
              "      <td>-5.332455</td>\n",
              "    </tr>\n",
              "  </tbody>\n",
              "</table>\n",
              "<p>100 rows × 4 columns</p>\n",
              "</div>\n",
              "    <div class=\"colab-df-buttons\">\n",
              "\n",
              "  <div class=\"colab-df-container\">\n",
              "    <button class=\"colab-df-convert\" onclick=\"convertToInteractive('df-7a922d85-5468-4f06-9e82-c79491aa1550')\"\n",
              "            title=\"Convert this dataframe to an interactive table.\"\n",
              "            style=\"display:none;\">\n",
              "\n",
              "  <svg xmlns=\"http://www.w3.org/2000/svg\" height=\"24px\" viewBox=\"0 -960 960 960\">\n",
              "    <path d=\"M120-120v-720h720v720H120Zm60-500h600v-160H180v160Zm220 220h160v-160H400v160Zm0 220h160v-160H400v160ZM180-400h160v-160H180v160Zm440 0h160v-160H620v160ZM180-180h160v-160H180v160Zm440 0h160v-160H620v160Z\"/>\n",
              "  </svg>\n",
              "    </button>\n",
              "\n",
              "  <style>\n",
              "    .colab-df-container {\n",
              "      display:flex;\n",
              "      gap: 12px;\n",
              "    }\n",
              "\n",
              "    .colab-df-convert {\n",
              "      background-color: #E8F0FE;\n",
              "      border: none;\n",
              "      border-radius: 50%;\n",
              "      cursor: pointer;\n",
              "      display: none;\n",
              "      fill: #1967D2;\n",
              "      height: 32px;\n",
              "      padding: 0 0 0 0;\n",
              "      width: 32px;\n",
              "    }\n",
              "\n",
              "    .colab-df-convert:hover {\n",
              "      background-color: #E2EBFA;\n",
              "      box-shadow: 0px 1px 2px rgba(60, 64, 67, 0.3), 0px 1px 3px 1px rgba(60, 64, 67, 0.15);\n",
              "      fill: #174EA6;\n",
              "    }\n",
              "\n",
              "    .colab-df-buttons div {\n",
              "      margin-bottom: 4px;\n",
              "    }\n",
              "\n",
              "    [theme=dark] .colab-df-convert {\n",
              "      background-color: #3B4455;\n",
              "      fill: #D2E3FC;\n",
              "    }\n",
              "\n",
              "    [theme=dark] .colab-df-convert:hover {\n",
              "      background-color: #434B5C;\n",
              "      box-shadow: 0px 1px 3px 1px rgba(0, 0, 0, 0.15);\n",
              "      filter: drop-shadow(0px 1px 2px rgba(0, 0, 0, 0.3));\n",
              "      fill: #FFFFFF;\n",
              "    }\n",
              "  </style>\n",
              "\n",
              "    <script>\n",
              "      const buttonEl =\n",
              "        document.querySelector('#df-7a922d85-5468-4f06-9e82-c79491aa1550 button.colab-df-convert');\n",
              "      buttonEl.style.display =\n",
              "        google.colab.kernel.accessAllowed ? 'block' : 'none';\n",
              "\n",
              "      async function convertToInteractive(key) {\n",
              "        const element = document.querySelector('#df-7a922d85-5468-4f06-9e82-c79491aa1550');\n",
              "        const dataTable =\n",
              "          await google.colab.kernel.invokeFunction('convertToInteractive',\n",
              "                                                    [key], {});\n",
              "        if (!dataTable) return;\n",
              "\n",
              "        const docLinkHtml = 'Like what you see? Visit the ' +\n",
              "          '<a target=\"_blank\" href=https://colab.research.google.com/notebooks/data_table.ipynb>data table notebook</a>'\n",
              "          + ' to learn more about interactive tables.';\n",
              "        element.innerHTML = '';\n",
              "        dataTable['output_type'] = 'display_data';\n",
              "        await google.colab.output.renderOutput(dataTable, element);\n",
              "        const docLink = document.createElement('div');\n",
              "        docLink.innerHTML = docLinkHtml;\n",
              "        element.appendChild(docLink);\n",
              "      }\n",
              "    </script>\n",
              "  </div>\n",
              "\n",
              "\n",
              "    <div id=\"df-055de613-860b-4eb8-8903-0dc43b5cfabc\">\n",
              "      <button class=\"colab-df-quickchart\" onclick=\"quickchart('df-055de613-860b-4eb8-8903-0dc43b5cfabc')\"\n",
              "                title=\"Suggest charts\"\n",
              "                style=\"display:none;\">\n",
              "\n",
              "<svg xmlns=\"http://www.w3.org/2000/svg\" height=\"24px\"viewBox=\"0 0 24 24\"\n",
              "     width=\"24px\">\n",
              "    <g>\n",
              "        <path d=\"M19 3H5c-1.1 0-2 .9-2 2v14c0 1.1.9 2 2 2h14c1.1 0 2-.9 2-2V5c0-1.1-.9-2-2-2zM9 17H7v-7h2v7zm4 0h-2V7h2v10zm4 0h-2v-4h2v4z\"/>\n",
              "    </g>\n",
              "</svg>\n",
              "      </button>\n",
              "\n",
              "<style>\n",
              "  .colab-df-quickchart {\n",
              "      --bg-color: #E8F0FE;\n",
              "      --fill-color: #1967D2;\n",
              "      --hover-bg-color: #E2EBFA;\n",
              "      --hover-fill-color: #174EA6;\n",
              "      --disabled-fill-color: #AAA;\n",
              "      --disabled-bg-color: #DDD;\n",
              "  }\n",
              "\n",
              "  [theme=dark] .colab-df-quickchart {\n",
              "      --bg-color: #3B4455;\n",
              "      --fill-color: #D2E3FC;\n",
              "      --hover-bg-color: #434B5C;\n",
              "      --hover-fill-color: #FFFFFF;\n",
              "      --disabled-bg-color: #3B4455;\n",
              "      --disabled-fill-color: #666;\n",
              "  }\n",
              "\n",
              "  .colab-df-quickchart {\n",
              "    background-color: var(--bg-color);\n",
              "    border: none;\n",
              "    border-radius: 50%;\n",
              "    cursor: pointer;\n",
              "    display: none;\n",
              "    fill: var(--fill-color);\n",
              "    height: 32px;\n",
              "    padding: 0;\n",
              "    width: 32px;\n",
              "  }\n",
              "\n",
              "  .colab-df-quickchart:hover {\n",
              "    background-color: var(--hover-bg-color);\n",
              "    box-shadow: 0 1px 2px rgba(60, 64, 67, 0.3), 0 1px 3px 1px rgba(60, 64, 67, 0.15);\n",
              "    fill: var(--button-hover-fill-color);\n",
              "  }\n",
              "\n",
              "  .colab-df-quickchart-complete:disabled,\n",
              "  .colab-df-quickchart-complete:disabled:hover {\n",
              "    background-color: var(--disabled-bg-color);\n",
              "    fill: var(--disabled-fill-color);\n",
              "    box-shadow: none;\n",
              "  }\n",
              "\n",
              "  .colab-df-spinner {\n",
              "    border: 2px solid var(--fill-color);\n",
              "    border-color: transparent;\n",
              "    border-bottom-color: var(--fill-color);\n",
              "    animation:\n",
              "      spin 1s steps(1) infinite;\n",
              "  }\n",
              "\n",
              "  @keyframes spin {\n",
              "    0% {\n",
              "      border-color: transparent;\n",
              "      border-bottom-color: var(--fill-color);\n",
              "      border-left-color: var(--fill-color);\n",
              "    }\n",
              "    20% {\n",
              "      border-color: transparent;\n",
              "      border-left-color: var(--fill-color);\n",
              "      border-top-color: var(--fill-color);\n",
              "    }\n",
              "    30% {\n",
              "      border-color: transparent;\n",
              "      border-left-color: var(--fill-color);\n",
              "      border-top-color: var(--fill-color);\n",
              "      border-right-color: var(--fill-color);\n",
              "    }\n",
              "    40% {\n",
              "      border-color: transparent;\n",
              "      border-right-color: var(--fill-color);\n",
              "      border-top-color: var(--fill-color);\n",
              "    }\n",
              "    60% {\n",
              "      border-color: transparent;\n",
              "      border-right-color: var(--fill-color);\n",
              "    }\n",
              "    80% {\n",
              "      border-color: transparent;\n",
              "      border-right-color: var(--fill-color);\n",
              "      border-bottom-color: var(--fill-color);\n",
              "    }\n",
              "    90% {\n",
              "      border-color: transparent;\n",
              "      border-bottom-color: var(--fill-color);\n",
              "    }\n",
              "  }\n",
              "</style>\n",
              "\n",
              "      <script>\n",
              "        async function quickchart(key) {\n",
              "          const quickchartButtonEl =\n",
              "            document.querySelector('#' + key + ' button');\n",
              "          quickchartButtonEl.disabled = true;  // To prevent multiple clicks.\n",
              "          quickchartButtonEl.classList.add('colab-df-spinner');\n",
              "          try {\n",
              "            const charts = await google.colab.kernel.invokeFunction(\n",
              "                'suggestCharts', [key], {});\n",
              "          } catch (error) {\n",
              "            console.error('Error during call to suggestCharts:', error);\n",
              "          }\n",
              "          quickchartButtonEl.classList.remove('colab-df-spinner');\n",
              "          quickchartButtonEl.classList.add('colab-df-quickchart-complete');\n",
              "        }\n",
              "        (() => {\n",
              "          let quickchartButtonEl =\n",
              "            document.querySelector('#df-055de613-860b-4eb8-8903-0dc43b5cfabc button');\n",
              "          quickchartButtonEl.style.display =\n",
              "            google.colab.kernel.accessAllowed ? 'block' : 'none';\n",
              "        })();\n",
              "      </script>\n",
              "    </div>\n",
              "\n",
              "  <div id=\"id_b7a86123-8f3a-4709-9075-050495d43f3e\">\n",
              "    <style>\n",
              "      .colab-df-generate {\n",
              "        background-color: #E8F0FE;\n",
              "        border: none;\n",
              "        border-radius: 50%;\n",
              "        cursor: pointer;\n",
              "        display: none;\n",
              "        fill: #1967D2;\n",
              "        height: 32px;\n",
              "        padding: 0 0 0 0;\n",
              "        width: 32px;\n",
              "      }\n",
              "\n",
              "      .colab-df-generate:hover {\n",
              "        background-color: #E2EBFA;\n",
              "        box-shadow: 0px 1px 2px rgba(60, 64, 67, 0.3), 0px 1px 3px 1px rgba(60, 64, 67, 0.15);\n",
              "        fill: #174EA6;\n",
              "      }\n",
              "\n",
              "      [theme=dark] .colab-df-generate {\n",
              "        background-color: #3B4455;\n",
              "        fill: #D2E3FC;\n",
              "      }\n",
              "\n",
              "      [theme=dark] .colab-df-generate:hover {\n",
              "        background-color: #434B5C;\n",
              "        box-shadow: 0px 1px 3px 1px rgba(0, 0, 0, 0.15);\n",
              "        filter: drop-shadow(0px 1px 2px rgba(0, 0, 0, 0.3));\n",
              "        fill: #FFFFFF;\n",
              "      }\n",
              "    </style>\n",
              "    <button class=\"colab-df-generate\" onclick=\"generateWithVariable('df')\"\n",
              "            title=\"Generate code using this dataframe.\"\n",
              "            style=\"display:none;\">\n",
              "\n",
              "  <svg xmlns=\"http://www.w3.org/2000/svg\" height=\"24px\"viewBox=\"0 0 24 24\"\n",
              "       width=\"24px\">\n",
              "    <path d=\"M7,19H8.4L18.45,9,17,7.55,7,17.6ZM5,21V16.75L18.45,3.32a2,2,0,0,1,2.83,0l1.4,1.43a1.91,1.91,0,0,1,.58,1.4,1.91,1.91,0,0,1-.58,1.4L9.25,21ZM18.45,9,17,7.55Zm-12,3A5.31,5.31,0,0,0,4.9,8.1,5.31,5.31,0,0,0,1,6.5,5.31,5.31,0,0,0,4.9,4.9,5.31,5.31,0,0,0,6.5,1,5.31,5.31,0,0,0,8.1,4.9,5.31,5.31,0,0,0,12,6.5,5.46,5.46,0,0,0,6.5,12Z\"/>\n",
              "  </svg>\n",
              "    </button>\n",
              "    <script>\n",
              "      (() => {\n",
              "      const buttonEl =\n",
              "        document.querySelector('#id_b7a86123-8f3a-4709-9075-050495d43f3e button.colab-df-generate');\n",
              "      buttonEl.style.display =\n",
              "        google.colab.kernel.accessAllowed ? 'block' : 'none';\n",
              "\n",
              "      buttonEl.onclick = () => {\n",
              "        google.colab.notebook.generateWithVariable('df');\n",
              "      }\n",
              "      })();\n",
              "    </script>\n",
              "  </div>\n",
              "\n",
              "    </div>\n",
              "  </div>\n"
            ],
            "application/vnd.google.colaboratory.intrinsic+json": {
              "type": "dataframe",
              "variable_name": "df",
              "summary": "{\n  \"name\": \"df\",\n  \"rows\": 100,\n  \"fields\": [\n    {\n      \"column\": \"X1\",\n      \"properties\": {\n        \"dtype\": \"number\",\n        \"std\": 1.1721814939918593,\n        \"min\": 0.0,\n        \"max\": 4.0,\n        \"num_unique_values\": 100,\n        \"samples\": [\n          3.353535354,\n          2.141414141,\n          2.828282828\n        ],\n        \"semantic_type\": \"\",\n        \"description\": \"\"\n      }\n    },\n    {\n      \"column\": \"X2\",\n      \"properties\": {\n        \"dtype\": \"number\",\n        \"std\": 1.1721536398366212,\n        \"min\": 0.07030303,\n        \"max\": 3.949090909,\n        \"num_unique_values\": 100,\n        \"samples\": [\n          1.120808081,\n          0.272323232,\n          0.086464646\n        ],\n        \"semantic_type\": \"\",\n        \"description\": \"\"\n      }\n    },\n    {\n      \"column\": \"X3\",\n      \"properties\": {\n        \"dtype\": \"number\",\n        \"std\": 1.163004879154481,\n        \"min\": 0.027878788,\n        \"max\": 3.943030303,\n        \"num_unique_values\": 100,\n        \"samples\": [\n          1.664242424,\n          0.20969697,\n          3.833939394\n        ],\n        \"semantic_type\": \"\",\n        \"description\": \"\"\n      }\n    },\n    {\n      \"column\": \"Y\",\n      \"properties\": {\n        \"dtype\": \"number\",\n        \"std\": 2.77464264389285,\n        \"min\": -5.332454989,\n        \"max\": 5.545892118,\n        \"num_unique_values\": 100,\n        \"samples\": [\n          -1.678452336,\n          2.569971294,\n          -0.650022584\n        ],\n        \"semantic_type\": \"\",\n        \"description\": \"\"\n      }\n    }\n  ]\n}"
            }
          },
          "metadata": {}
        }
      ]
    },
    {
      "cell_type": "code",
      "source": [
        "X1 = df.values[:, 0]  # get input values from the first column -- X is a list here which is a 1 dimentional array\n",
        "y = df.values[:, 3]  # get output values from the second column --  Y is a list here which is a 2 dimentional array\n",
        "\n",
        "# Scatter plot\n",
        "plt.scatter(X1, y, color='red', marker='+')\n",
        "\n",
        "# Grid, labels, and title\n",
        "plt.grid(True)\n",
        "plt.rcParams[\"figure.figsize\"] = (5, 10)\n",
        "plt.xlabel('X1')\n",
        "plt.ylabel('Y')\n",
        "plt.title('Scatter plot of training data')\n",
        "\n",
        "# Show the plot\n",
        "plt.show()"
      ],
      "metadata": {
        "colab": {
          "base_uri": "https://localhost:8080/",
          "height": 564
        },
        "id": "9p6b4Wx8-zUq",
        "outputId": "1e8d63fe-ef95-4138-e2a7-3f47643d24ac"
      },
      "execution_count": 26,
      "outputs": [
        {
          "output_type": "display_data",
          "data": {
            "text/plain": [
              "<Figure size 1000x600 with 1 Axes>"
            ],
            "image/png": "[encoded data removed]"
          },
          "metadata": {}
        }
      ]
    },
    {
      "cell_type": "code",
      "source": [
        "#We walk through the initial steps of building a linear regression model from scratch using NumPy. Let's break down what you're doing:\n",
        "#X_0 = np.ones((m, 1)): We're creating a column vector of ones. This will be used as the \"bias\" term for the linear regression model.\n",
        "#X_1 = X.reshape(m, 1): You're reshaping features (X) to make it a 2D array suitable for matrix operations.\n",
        "#X = np.hstack((X_0, X_1)): We're horizontally stacking X_0 and X_1 to create final feature matrix X."
      ],
      "metadata": {
        "id": "MkZ3Hxiu_IuJ"
      },
      "execution_count": null,
      "outputs": []
    },
    {
      "cell_type": "code",
      "source": [
        "X_0 = np.ones((m, 1))\n",
        "X_0[:5]"
      ],
      "metadata": {
        "colab": {
          "base_uri": "https://localhost:8080/"
        },
        "id": "50OgRz5RAp_6",
        "outputId": "9035cce6-0979-43ef-e147-5a4e9968feeb"
      },
      "execution_count": 27,
      "outputs": [
        {
          "output_type": "execute_result",
          "data": {
            "text/plain": [
              "array([[1.],\n",
              "       [1.],\n",
              "       [1.],\n",
              "       [1.],\n",
              "       [1.]])"
            ]
          },
          "metadata": {},
          "execution_count": 27
        }
      ]
    },
    {
      "cell_type": "code",
      "source": [
        "X_1 = X1.reshape(m, 1)\n",
        "X_1[:10]"
      ],
      "metadata": {
        "colab": {
          "base_uri": "https://localhost:8080/"
        },
        "id": "GU3oH3pPA-yG",
        "outputId": "32cc9639-8c10-4b83-a5f6-88e163fd646a"
      },
      "execution_count": 28,
      "outputs": [
        {
          "output_type": "execute_result",
          "data": {
            "text/plain": [
              "array([[0.        ],\n",
              "       [0.04040404],\n",
              "       [0.08080808],\n",
              "       [0.12121212],\n",
              "       [0.16161616],\n",
              "       [0.2020202 ],\n",
              "       [0.24242424],\n",
              "       [0.28282828],\n",
              "       [0.32323232],\n",
              "       [0.36363636]])"
            ]
          },
          "metadata": {},
          "execution_count": 28
        }
      ]
    },
    {
      "cell_type": "code",
      "source": [
        "# Lets use hstack() function from numpy to stack X_0 and X_1 horizontally (i.e. column\n",
        "# This will be our final X matrix (feature matrix)\n",
        "X1 = np.hstack((X_0, X_1))\n",
        "X1[:5]"
      ],
      "metadata": {
        "colab": {
          "base_uri": "https://localhost:8080/"
        },
        "id": "-_fueNnuCWyE",
        "outputId": "95855118-d83f-441a-d339-90310ec11f62"
      },
      "execution_count": 29,
      "outputs": [
        {
          "output_type": "execute_result",
          "data": {
            "text/plain": [
              "array([[1.        , 0.        ],\n",
              "       [1.        , 0.04040404],\n",
              "       [1.        , 0.08080808],\n",
              "       [1.        , 0.12121212],\n",
              "       [1.        , 0.16161616]])"
            ]
          },
          "metadata": {},
          "execution_count": 29
        }
      ]
    },
    {
      "cell_type": "code",
      "source": [
        "theta = np.zeros(2)\n",
        "theta"
      ],
      "metadata": {
        "colab": {
          "base_uri": "https://localhost:8080/"
        },
        "id": "bEHOQrJxCl-_",
        "outputId": "86e64553-98dc-42a9-8167-e1261bb1926b"
      },
      "execution_count": 30,
      "outputs": [
        {
          "output_type": "execute_result",
          "data": {
            "text/plain": [
              "array([0., 0.])"
            ]
          },
          "metadata": {},
          "execution_count": 30
        }
      ]
    },
    {
      "cell_type": "code",
      "source": [
        "def compute_cost(X1, y, theta):\n",
        "    \"\"\"\n",
        "    Compute cost for linear regression.\n",
        "\n",
        "    Parameters:\n",
        "    X : 2D array where each row represents the training example and each column represent the feature\n",
        "        m = number of training examples\n",
        "        n = number of features (including X_0 column of ones)\n",
        "    y : 1D array of labels/target values for each training example. dimension(m)\n",
        "    theta : 1D array of fitting parameters or weights. Dimension (n)\n",
        "\n",
        "    Returns:\n",
        "    J : Scalar value, the cost\n",
        "    \"\"\"\n",
        "    predictions = X1.dot(theta)\n",
        "    errors = np.subtract(predictions, y)\n",
        "    sqrErrors = np.square(errors)\n",
        "    J = 1 / (2 * m) * np.sum(sqrErrors)\n",
        "    return J"
      ],
      "metadata": {
        "id": "bADIBdmGAPvs"
      },
      "execution_count": 31,
      "outputs": []
    },
    {
      "cell_type": "code",
      "source": [
        "# Lets compute the cost for theta values\n",
        "cost = compute_cost(X1, y, theta)\n",
        "print('The cost for given values of theta_0 and theta_1 =', cost)"
      ],
      "metadata": {
        "colab": {
          "base_uri": "https://localhost:8080/"
        },
        "id": "9ycAwlj9AS39",
        "outputId": "5b001f65-466f-4e67-fa2f-829caf123a59"
      },
      "execution_count": 32,
      "outputs": [
        {
          "output_type": "stream",
          "name": "stdout",
          "text": [
            "The cost for given values of theta_0 and theta_1 = 5.524438459196242\n"
          ]
        }
      ]
    },
    {
      "cell_type": "code",
      "source": [
        "def gradient_descent(X1, y, theta, alpha, iterations):\n",
        "    \"\"\"\n",
        "    Compute the optimal parameters using gradient descent for linear regression.\n",
        "\n",
        "    Parameters:\n",
        "    X : 2D array where each row represents the training example and each column represents the feature\n",
        "        m = number of training examples\n",
        "        n = number of features (including X_0 column of ones)\n",
        "    y : 1D array of labels/target values for each training example. dimension(m)\n",
        "    theta : 1D array of fitting parameters or weights. Dimension (n)\n",
        "    alpha : Learning rate (scalar)\n",
        "    iterations : Number of iterations (scalar)\n",
        "\n",
        "    Returns:\n",
        "    theta : Updated values of fitting parameters or weights after 'iterations' iterations. Dimension (n)\n",
        "    cost_history : Array containing the cost for each iteration. Dimension (iterations)\n",
        "    \"\"\"\n",
        "\n",
        "    m = len(y)  # Number of training examples\n",
        "    cost_history = np.zeros(iterations)\n",
        "\n",
        "    for i in range(iterations):\n",
        "        predictions = X1.dot(theta)\n",
        "        errors = np.subtract(predictions, y)\n",
        "        sum_delta = (alpha / m) * X1.transpose().dot(errors)\n",
        "        theta -= sum_delta\n",
        "        cost_history[i] = compute_cost(X1, y, theta)\n",
        "\n",
        "    return theta, cost_history"
      ],
      "metadata": {
        "id": "nvAzHrlWAki8"
      },
      "execution_count": 33,
      "outputs": []
    },
    {
      "cell_type": "code",
      "source": [
        "theta = [0., 0.]\n",
        "iterations = 400\n",
        "alpha = 0.07"
      ],
      "metadata": {
        "id": "fdNX-ZhwAl2A"
      },
      "execution_count": 42,
      "outputs": []
    },
    {
      "cell_type": "code",
      "source": [
        "theta, cost_history = gradient_descent(X1, y, theta, alpha, iterations)\n",
        "print('Final value of theta =', theta)\n",
        "print('cost_history =', cost_history)"
      ],
      "metadata": {
        "colab": {
          "base_uri": "https://localhost:8080/"
        },
        "id": "fSXC41K7EFV5",
        "outputId": "992565a3-5892-4f4d-eb94-a44ef2370e92"
      },
      "execution_count": 43,
      "outputs": [
        {
          "output_type": "stream",
          "name": "stdout",
          "text": [
            "Final value of theta = [ 5.91671604 -2.03396474]\n",
            "cost_history = [5.26062949 5.0886633  4.94921983 4.82292459 4.70339718 4.58848582\n",
            " 4.47741631 4.36986483 4.26565622 4.16466585 4.06678756 3.97192327\n",
            " 3.87997946 3.79086597 3.70449562 3.62078392 3.53964904 3.46101166\n",
            " 3.38479489 3.31092423 3.23932745 3.16993456 3.10267772 3.03749118\n",
            " 2.97431122 2.91307606 2.85372583 2.79620253 2.74044991 2.68641346\n",
            " 2.63404036 2.58327941 2.53408098 2.48639698 2.44018079 2.39538722\n",
            " 2.35197249 2.30989415 2.26911106 2.22958336 2.1912724  2.15414073\n",
            " 2.11815204 2.08327116 2.04946398 2.01669745 1.98493954 1.95415921\n",
            " 1.92432635 1.89541181 1.86738731 1.84022546 1.81389971 1.78838432\n",
            " 1.76365434 1.7396856  1.71645467 1.69393883 1.67211607 1.65096506\n",
            " 1.63046512 1.61059621 1.5913389  1.57267438 1.55458438 1.53705123\n",
            " 1.52005778 1.50358743 1.48762406 1.47215208 1.45715636 1.44262224\n",
            " 1.42853551 1.41488239 1.40164954 1.38882403 1.37639331 1.36434523\n",
            " 1.35266802 1.34135026 1.33038088 1.31974915 1.3094447  1.29945743\n",
            " 1.2897776  1.28039572 1.27130264 1.26248947 1.25394758 1.24566862\n",
            " 1.23764451 1.2298674  1.22232968 1.21502399 1.20794318 1.20108034\n",
            " 1.19442874 1.1879819  1.1817335  1.17567744 1.16980779 1.16411883\n",
            " 1.15860498 1.15326086 1.14808125 1.14306107 1.13819542 1.13347955\n",
            " 1.12890884 1.12447883 1.12018518 1.1160237  1.11199032 1.10808109\n",
            " 1.1042922  1.10061993 1.09706071 1.09361105 1.09026757 1.08702701\n",
            " 1.0838862  1.08084208 1.07789166 1.07503205 1.07226047 1.06957421\n",
            " 1.06697064 1.0644472  1.06200145 1.05963098 1.05733348 1.05510669\n",
            " 1.05294846 1.05085666 1.04882925 1.04686424 1.04495972 1.04311383\n",
            " 1.04132476 1.03959076 1.03791013 1.03628124 1.03470249 1.03317234\n",
            " 1.03168928 1.03025188 1.02885873 1.02750845 1.02619975 1.02493132\n",
            " 1.02370195 1.02251041 1.02135555 1.02023624 1.01915139 1.01809993\n",
            " 1.01708083 1.01609311 1.01513579 1.01420794 1.01330864 1.01243704\n",
            " 1.01159226 1.01077348 1.00997991 1.00921076 1.0084653  1.00774278\n",
            " 1.00704249 1.00636377 1.00570594 1.00506835 1.0044504  1.00385146\n",
            " 1.00327096 1.00270834 1.00216302 1.0016345  1.00112224 1.00062576\n",
            " 1.00014455 0.99967816 0.99922612 0.998788   0.99836337 0.9979518\n",
            " 0.99755291 0.99716629 0.99679158 0.9964284  0.99607639 0.99573523\n",
            " 0.99540456 0.99508408 0.99477346 0.9944724  0.9941806  0.99389779\n",
            " 0.99362369 0.99335802 0.99310053 0.99285097 0.99260909 0.99237465\n",
            " 0.99214743 0.99192721 0.99171376 0.99150689 0.99130638 0.99111204\n",
            " 0.99092369 0.99074113 0.9905642  0.99039271 0.9902265  0.9900654\n",
            " 0.98990926 0.98975793 0.98961126 0.98946911 0.98933133 0.98919779\n",
            " 0.98906836 0.98894291 0.98882133 0.98870349 0.98858927 0.98847858\n",
            " 0.98837128 0.9882673  0.98816651 0.98806883 0.98797415 0.98788239\n",
            " 0.98779345 0.98770725 0.9876237  0.98754272 0.98746424 0.98738817\n",
            " 0.98731445 0.98724299 0.98717373 0.98710661 0.98704155 0.9869785\n",
            " 0.98691738 0.98685815 0.98680074 0.98674509 0.98669116 0.98663889\n",
            " 0.98658823 0.98653913 0.98649154 0.98644541 0.98640071 0.98635738\n",
            " 0.98631538 0.98627468 0.98623523 0.98619699 0.98615993 0.98612402\n",
            " 0.9860892  0.98605546 0.98602276 0.98599107 0.98596035 0.98593057\n",
            " 0.98590171 0.98587374 0.98584664 0.98582036 0.9857949  0.98577022\n",
            " 0.98574629 0.98572311 0.98570064 0.98567886 0.98565775 0.98563729\n",
            " 0.98561746 0.98559824 0.98557961 0.98556156 0.98554406 0.9855271\n",
            " 0.98551066 0.98549473 0.98547929 0.98546432 0.98544981 0.98543575\n",
            " 0.98542213 0.98540892 0.98539612 0.98538371 0.98537169 0.98536004\n",
            " 0.98534874 0.98533779 0.98532718 0.9853169  0.98530693 0.98529727\n",
            " 0.98528791 0.98527883 0.98527003 0.98526151 0.98525325 0.98524524\n",
            " 0.98523748 0.98522995 0.98522266 0.98521559 0.98520875 0.98520211\n",
            " 0.98519567 0.98518944 0.98518339 0.98517753 0.98517186 0.98516635\n",
            " 0.98516102 0.98515585 0.98515084 0.98514598 0.98514128 0.98513672\n",
            " 0.98513229 0.98512801 0.98512386 0.98511983 0.98511593 0.98511215\n",
            " 0.98510848 0.98510493 0.98510149 0.98509815 0.98509492 0.98509178\n",
            " 0.98508874 0.9850858  0.98508294 0.98508018 0.9850775  0.9850749\n",
            " 0.98507238 0.98506994 0.98506757 0.98506528 0.98506306 0.9850609\n",
            " 0.98505882 0.98505679 0.98505483 0.98505293 0.98505109 0.9850493\n",
            " 0.98504757 0.9850459  0.98504427 0.98504269 0.98504117 0.98503969\n",
            " 0.98503825 0.98503686 0.98503551 0.98503421 0.98503294 0.98503172\n",
            " 0.98503053 0.98502937 0.98502826 0.98502717 0.98502612 0.98502511\n",
            " 0.98502412 0.98502317 0.98502224 0.98502134 0.98502047 0.98501963\n",
            " 0.98501881 0.98501802 0.98501725 0.98501651 0.98501579 0.98501509\n",
            " 0.98501441 0.98501375 0.98501312 0.9850125  0.9850119  0.98501132\n",
            " 0.98501076 0.98501022 0.98500969 0.98500918]\n"
          ]
        }
      ]
    },
    {
      "cell_type": "code",
      "source": [
        "\n",
        "# Assuming that X, y, and theta are already defined\n",
        "# Also assuming that X has two columns: a feature column and a column of ones\n",
        "\n",
        "# Scatter plot for the training data\n",
        "plt.scatter(X1[:, 1], y, color='red', marker='+', label='Training Data')\n",
        "\n",
        "# Line plot for the linear regression model\n",
        "plt.plot(X1[:, 1], X1.dot(theta), color='green', label='Linear Regression')\n",
        "\n",
        "# Plot customizations\n",
        "plt.rcParams[\"figure.figsize\"] = (10, 6)\n",
        "plt.grid(True)\n",
        "plt.xlabel('X1')\n",
        "plt.ylabel('Y')\n",
        "plt.title('Linear Regression Fit')\n",
        "plt.legend()\n",
        "\n",
        "# Show the plot\n",
        "plt.show()\n"
      ],
      "metadata": {
        "colab": {
          "base_uri": "https://localhost:8080/",
          "height": 564
        },
        "id": "4JEuWUjoEVbr",
        "outputId": "1cb16477-2d48-4198-c261-f480a98d04d7"
      },
      "execution_count": 44,
      "outputs": [
        {
          "output_type": "display_data",
          "data": {
            "text/plain": [
              "<Figure size 1000x600 with 1 Axes>"
            ],
            "image/png": "[encoded data removed]"
          },
          "metadata": {}
        }
      ]
    },
    {
      "cell_type": "code",
      "source": [
        "\n",
        "\n",
        "plt.plot(range(1, iterations + 1), cost_history, color='blue')\n",
        "plt.rcParams[\"figure.figsize\"] = (10, 6)\n",
        "plt.grid(True)\n",
        "\n",
        "plt.xlabel('Number of iterations')\n",
        "plt.ylabel('Cost (J)')\n",
        "plt.title('Convergence of gradient descent')\n",
        "\n",
        "# Show the plot\n",
        "plt.show()"
      ],
      "metadata": {
        "colab": {
          "base_uri": "https://localhost:8080/",
          "height": 564
        },
        "id": "qDUKQIhLGCHc",
        "outputId": "20ff98e0-f5ac-4edd-a14d-1a8e18639413"
      },
      "execution_count": 45,
      "outputs": [
        {
          "output_type": "display_data",
          "data": {
            "text/plain": [
              "<Figure size 1000x600 with 1 Axes>"
            ],
            "image/png": "[encoded data removed]"
          },
          "metadata": {}
        }
      ]
    },
    {
      "cell_type": "markdown",
      "source": [
        "X2"
      ],
      "metadata": {
        "id": "7jfb_zbHEkRg"
      }
    },
    {
      "cell_type": "code",
      "source": [
        "from IPython.display import display\n",
        "display(df)"
      ],
      "metadata": {
        "colab": {
          "base_uri": "https://localhost:8080/",
          "height": 423
        },
        "outputId": "a57f3540-dd74-4175-ad3e-660b8c325549",
        "id": "4pyhDyUK9l1w"
      },
      "execution_count": 47,
      "outputs": [
        {
          "output_type": "display_data",
          "data": {
            "text/plain": [
              "          X1        X2        X3         Y\n",
              "0   0.000000  3.440000  0.440000  4.387545\n",
              "1   0.040404  0.134949  0.888485  2.679650\n",
              "2   0.080808  0.829899  1.336970  2.968490\n",
              "3   0.121212  1.524848  1.785455  3.254065\n",
              "4   0.161616  2.219798  2.233939  3.536375\n",
              "..       ...       ...       ...       ...\n",
              "95  3.838384  1.460202  3.046061 -4.440595\n",
              "96  3.878788  2.155152  3.494545 -4.458663\n",
              "97  3.919192  2.850101  3.943030 -4.479995\n",
              "98  3.959596  3.545051  0.391515 -3.304593\n",
              "99  4.000000  0.240000  0.840000 -5.332455\n",
              "\n",
              "[100 rows x 4 columns]"
            ],
            "text/html": [
              "\n",
              "  <div id=\"df-1997cbac-9818-462f-8e38-e44bd24dbd95\" class=\"colab-df-container\">\n",
              "    <div>\n",
              "<style scoped>\n",
              "    .dataframe tbody tr th:only-of-type {\n",
              "        vertical-align: middle;\n",
              "    }\n",
              "\n",
              "    .dataframe tbody tr th {\n",
              "        vertical-align: top;\n",
              "    }\n",
              "\n",
              "    .dataframe thead th {\n",
              "        text-align: right;\n",
              "    }\n",
              "</style>\n",
              "<table border=\"1\" class=\"dataframe\">\n",
              "  <thead>\n",
              "    <tr style=\"text-align: right;\">\n",
              "      <th></th>\n",
              "      <th>X1</th>\n",
              "      <th>X2</th>\n",
              "      <th>X3</th>\n",
              "      <th>Y</th>\n",
              "    </tr>\n",
              "  </thead>\n",
              "  <tbody>\n",
              "    <tr>\n",
              "      <th>0</th>\n",
              "      <td>0.000000</td>\n",
              "      <td>3.440000</td>\n",
              "      <td>0.440000</td>\n",
              "      <td>4.387545</td>\n",
              "    </tr>\n",
              "    <tr>\n",
              "      <th>1</th>\n",
              "      <td>0.040404</td>\n",
              "      <td>0.134949</td>\n",
              "      <td>0.888485</td>\n",
              "      <td>2.679650</td>\n",
              "    </tr>\n",
              "    <tr>\n",
              "      <th>2</th>\n",
              "      <td>0.080808</td>\n",
              "      <td>0.829899</td>\n",
              "      <td>1.336970</td>\n",
              "      <td>2.968490</td>\n",
              "    </tr>\n",
              "    <tr>\n",
              "      <th>3</th>\n",
              "      <td>0.121212</td>\n",
              "      <td>1.524848</td>\n",
              "      <td>1.785455</td>\n",
              "      <td>3.254065</td>\n",
              "    </tr>\n",
              "    <tr>\n",
              "      <th>4</th>\n",
              "      <td>0.161616</td>\n",
              "      <td>2.219798</td>\n",
              "      <td>2.233939</td>\n",
              "      <td>3.536375</td>\n",
              "    </tr>\n",
              "    <tr>\n",
              "      <th>...</th>\n",
              "      <td>...</td>\n",
              "      <td>...</td>\n",
              "      <td>...</td>\n",
              "      <td>...</td>\n",
              "    </tr>\n",
              "    <tr>\n",
              "      <th>95</th>\n",
              "      <td>3.838384</td>\n",
              "      <td>1.460202</td>\n",
              "      <td>3.046061</td>\n",
              "      <td>-4.440595</td>\n",
              "    </tr>\n",
              "    <tr>\n",
              "      <th>96</th>\n",
              "      <td>3.878788</td>\n",
              "      <td>2.155152</td>\n",
              "      <td>3.494545</td>\n",
              "      <td>-4.458663</td>\n",
              "    </tr>\n",
              "    <tr>\n",
              "      <th>97</th>\n",
              "      <td>3.919192</td>\n",
              "      <td>2.850101</td>\n",
              "      <td>3.943030</td>\n",
              "      <td>-4.479995</td>\n",
              "    </tr>\n",
              "    <tr>\n",
              "      <th>98</th>\n",
              "      <td>3.959596</td>\n",
              "      <td>3.545051</td>\n",
              "      <td>0.391515</td>\n",
              "      <td>-3.304593</td>\n",
              "    </tr>\n",
              "    <tr>\n",
              "      <th>99</th>\n",
              "      <td>4.000000</td>\n",
              "      <td>0.240000</td>\n",
              "      <td>0.840000</td>\n",
              "      <td>-5.332455</td>\n",
              "    </tr>\n",
              "  </tbody>\n",
              "</table>\n",
              "<p>100 rows × 4 columns</p>\n",
              "</div>\n",
              "    <div class=\"colab-df-buttons\">\n",
              "\n",
              "  <div class=\"colab-df-container\">\n",
              "    <button class=\"colab-df-convert\" onclick=\"convertToInteractive('df-1997cbac-9818-462f-8e38-e44bd24dbd95')\"\n",
              "            title=\"Convert this dataframe to an interactive table.\"\n",
              "            style=\"display:none;\">\n",
              "\n",
              "  <svg xmlns=\"http://www.w3.org/2000/svg\" height=\"24px\" viewBox=\"0 -960 960 960\">\n",
              "    <path d=\"M120-120v-720h720v720H120Zm60-500h600v-160H180v160Zm220 220h160v-160H400v160Zm0 220h160v-160H400v160ZM180-400h160v-160H180v160Zm440 0h160v-160H620v160ZM180-180h160v-160H180v160Zm440 0h160v-160H620v160Z\"/>\n",
              "  </svg>\n",
              "    </button>\n",
              "\n",
              "  <style>\n",
              "    .colab-df-container {\n",
              "      display:flex;\n",
              "      gap: 12px;\n",
              "    }\n",
              "\n",
              "    .colab-df-convert {\n",
              "      background-color: #E8F0FE;\n",
              "      border: none;\n",
              "      border-radius: 50%;\n",
              "      cursor: pointer;\n",
              "      display: none;\n",
              "      fill: #1967D2;\n",
              "      height: 32px;\n",
              "      padding: 0 0 0 0;\n",
              "      width: 32px;\n",
              "    }\n",
              "\n",
              "    .colab-df-convert:hover {\n",
              "      background-color: #E2EBFA;\n",
              "      box-shadow: 0px 1px 2px rgba(60, 64, 67, 0.3), 0px 1px 3px 1px rgba(60, 64, 67, 0.15);\n",
              "      fill: #174EA6;\n",
              "    }\n",
              "\n",
              "    .colab-df-buttons div {\n",
              "      margin-bottom: 4px;\n",
              "    }\n",
              "\n",
              "    [theme=dark] .colab-df-convert {\n",
              "      background-color: #3B4455;\n",
              "      fill: #D2E3FC;\n",
              "    }\n",
              "\n",
              "    [theme=dark] .colab-df-convert:hover {\n",
              "      background-color: #434B5C;\n",
              "      box-shadow: 0px 1px 3px 1px rgba(0, 0, 0, 0.15);\n",
              "      filter: drop-shadow(0px 1px 2px rgba(0, 0, 0, 0.3));\n",
              "      fill: #FFFFFF;\n",
              "    }\n",
              "  </style>\n",
              "\n",
              "    <script>\n",
              "      const buttonEl =\n",
              "        document.querySelector('#df-1997cbac-9818-462f-8e38-e44bd24dbd95 button.colab-df-convert');\n",
              "      buttonEl.style.display =\n",
              "        google.colab.kernel.accessAllowed ? 'block' : 'none';\n",
              "\n",
              "      async function convertToInteractive(key) {\n",
              "        const element = document.querySelector('#df-1997cbac-9818-462f-8e38-e44bd24dbd95');\n",
              "        const dataTable =\n",
              "          await google.colab.kernel.invokeFunction('convertToInteractive',\n",
              "                                                    [key], {});\n",
              "        if (!dataTable) return;\n",
              "\n",
              "        const docLinkHtml = 'Like what you see? Visit the ' +\n",
              "          '<a target=\"_blank\" href=https://colab.research.google.com/notebooks/data_table.ipynb>data table notebook</a>'\n",
              "          + ' to learn more about interactive tables.';\n",
              "        element.innerHTML = '';\n",
              "        dataTable['output_type'] = 'display_data';\n",
              "        await google.colab.output.renderOutput(dataTable, element);\n",
              "        const docLink = document.createElement('div');\n",
              "        docLink.innerHTML = docLinkHtml;\n",
              "        element.appendChild(docLink);\n",
              "      }\n",
              "    </script>\n",
              "  </div>\n",
              "\n",
              "\n",
              "    <div id=\"df-8d800359-1e6e-444c-8d65-95d9fd7a33f4\">\n",
              "      <button class=\"colab-df-quickchart\" onclick=\"quickchart('df-8d800359-1e6e-444c-8d65-95d9fd7a33f4')\"\n",
              "                title=\"Suggest charts\"\n",
              "                style=\"display:none;\">\n",
              "\n",
              "<svg xmlns=\"http://www.w3.org/2000/svg\" height=\"24px\"viewBox=\"0 0 24 24\"\n",
              "     width=\"24px\">\n",
              "    <g>\n",
              "        <path d=\"M19 3H5c-1.1 0-2 .9-2 2v14c0 1.1.9 2 2 2h14c1.1 0 2-.9 2-2V5c0-1.1-.9-2-2-2zM9 17H7v-7h2v7zm4 0h-2V7h2v10zm4 0h-2v-4h2v4z\"/>\n",
              "    </g>\n",
              "</svg>\n",
              "      </button>\n",
              "\n",
              "<style>\n",
              "  .colab-df-quickchart {\n",
              "      --bg-color: #E8F0FE;\n",
              "      --fill-color: #1967D2;\n",
              "      --hover-bg-color: #E2EBFA;\n",
              "      --hover-fill-color: #174EA6;\n",
              "      --disabled-fill-color: #AAA;\n",
              "      --disabled-bg-color: #DDD;\n",
              "  }\n",
              "\n",
              "  [theme=dark] .colab-df-quickchart {\n",
              "      --bg-color: #3B4455;\n",
              "      --fill-color: #D2E3FC;\n",
              "      --hover-bg-color: #434B5C;\n",
              "      --hover-fill-color: #FFFFFF;\n",
              "      --disabled-bg-color: #3B4455;\n",
              "      --disabled-fill-color: #666;\n",
              "  }\n",
              "\n",
              "  .colab-df-quickchart {\n",
              "    background-color: var(--bg-color);\n",
              "    border: none;\n",
              "    border-radius: 50%;\n",
              "    cursor: pointer;\n",
              "    display: none;\n",
              "    fill: var(--fill-color);\n",
              "    height: 32px;\n",
              "    padding: 0;\n",
              "    width: 32px;\n",
              "  }\n",
              "\n",
              "  .colab-df-quickchart:hover {\n",
              "    background-color: var(--hover-bg-color);\n",
              "    box-shadow: 0 1px 2px rgba(60, 64, 67, 0.3), 0 1px 3px 1px rgba(60, 64, 67, 0.15);\n",
              "    fill: var(--button-hover-fill-color);\n",
              "  }\n",
              "\n",
              "  .colab-df-quickchart-complete:disabled,\n",
              "  .colab-df-quickchart-complete:disabled:hover {\n",
              "    background-color: var(--disabled-bg-color);\n",
              "    fill: var(--disabled-fill-color);\n",
              "    box-shadow: none;\n",
              "  }\n",
              "\n",
              "  .colab-df-spinner {\n",
              "    border: 2px solid var(--fill-color);\n",
              "    border-color: transparent;\n",
              "    border-bottom-color: var(--fill-color);\n",
              "    animation:\n",
              "      spin 1s steps(1) infinite;\n",
              "  }\n",
              "\n",
              "  @keyframes spin {\n",
              "    0% {\n",
              "      border-color: transparent;\n",
              "      border-bottom-color: var(--fill-color);\n",
              "      border-left-color: var(--fill-color);\n",
              "    }\n",
              "    20% {\n",
              "      border-color: transparent;\n",
              "      border-left-color: var(--fill-color);\n",
              "      border-top-color: var(--fill-color);\n",
              "    }\n",
              "    30% {\n",
              "      border-color: transparent;\n",
              "      border-left-color: var(--fill-color);\n",
              "      border-top-color: var(--fill-color);\n",
              "      border-right-color: var(--fill-color);\n",
              "    }\n",
              "    40% {\n",
              "      border-color: transparent;\n",
              "      border-right-color: var(--fill-color);\n",
              "      border-top-color: var(--fill-color);\n",
              "    }\n",
              "    60% {\n",
              "      border-color: transparent;\n",
              "      border-right-color: var(--fill-color);\n",
              "    }\n",
              "    80% {\n",
              "      border-color: transparent;\n",
              "      border-right-color: var(--fill-color);\n",
              "      border-bottom-color: var(--fill-color);\n",
              "    }\n",
              "    90% {\n",
              "      border-color: transparent;\n",
              "      border-bottom-color: var(--fill-color);\n",
              "    }\n",
              "  }\n",
              "</style>\n",
              "\n",
              "      <script>\n",
              "        async function quickchart(key) {\n",
              "          const quickchartButtonEl =\n",
              "            document.querySelector('#' + key + ' button');\n",
              "          quickchartButtonEl.disabled = true;  // To prevent multiple clicks.\n",
              "          quickchartButtonEl.classList.add('colab-df-spinner');\n",
              "          try {\n",
              "            const charts = await google.colab.kernel.invokeFunction(\n",
              "                'suggestCharts', [key], {});\n",
              "          } catch (error) {\n",
              "            console.error('Error during call to suggestCharts:', error);\n",
              "          }\n",
              "          quickchartButtonEl.classList.remove('colab-df-spinner');\n",
              "          quickchartButtonEl.classList.add('colab-df-quickchart-complete');\n",
              "        }\n",
              "        (() => {\n",
              "          let quickchartButtonEl =\n",
              "            document.querySelector('#df-8d800359-1e6e-444c-8d65-95d9fd7a33f4 button');\n",
              "          quickchartButtonEl.style.display =\n",
              "            google.colab.kernel.accessAllowed ? 'block' : 'none';\n",
              "        })();\n",
              "      </script>\n",
              "    </div>\n",
              "\n",
              "  <div id=\"id_f91687a9-761b-49ab-85ec-fab7cfb8999e\">\n",
              "    <style>\n",
              "      .colab-df-generate {\n",
              "        background-color: #E8F0FE;\n",
              "        border: none;\n",
              "        border-radius: 50%;\n",
              "        cursor: pointer;\n",
              "        display: none;\n",
              "        fill: #1967D2;\n",
              "        height: 32px;\n",
              "        padding: 0 0 0 0;\n",
              "        width: 32px;\n",
              "      }\n",
              "\n",
              "      .colab-df-generate:hover {\n",
              "        background-color: #E2EBFA;\n",
              "        box-shadow: 0px 1px 2px rgba(60, 64, 67, 0.3), 0px 1px 3px 1px rgba(60, 64, 67, 0.15);\n",
              "        fill: #174EA6;\n",
              "      }\n",
              "\n",
              "      [theme=dark] .colab-df-generate {\n",
              "        background-color: #3B4455;\n",
              "        fill: #D2E3FC;\n",
              "      }\n",
              "\n",
              "      [theme=dark] .colab-df-generate:hover {\n",
              "        background-color: #434B5C;\n",
              "        box-shadow: 0px 1px 3px 1px rgba(0, 0, 0, 0.15);\n",
              "        filter: drop-shadow(0px 1px 2px rgba(0, 0, 0, 0.3));\n",
              "        fill: #FFFFFF;\n",
              "      }\n",
              "    </style>\n",
              "    <button class=\"colab-df-generate\" onclick=\"generateWithVariable('df')\"\n",
              "            title=\"Generate code using this dataframe.\"\n",
              "            style=\"display:none;\">\n",
              "\n",
              "  <svg xmlns=\"http://www.w3.org/2000/svg\" height=\"24px\"viewBox=\"0 0 24 24\"\n",
              "       width=\"24px\">\n",
              "    <path d=\"M7,19H8.4L18.45,9,17,7.55,7,17.6ZM5,21V16.75L18.45,3.32a2,2,0,0,1,2.83,0l1.4,1.43a1.91,1.91,0,0,1,.58,1.4,1.91,1.91,0,0,1-.58,1.4L9.25,21ZM18.45,9,17,7.55Zm-12,3A5.31,5.31,0,0,0,4.9,8.1,5.31,5.31,0,0,0,1,6.5,5.31,5.31,0,0,0,4.9,4.9,5.31,5.31,0,0,0,6.5,1,5.31,5.31,0,0,0,8.1,4.9,5.31,5.31,0,0,0,12,6.5,5.46,5.46,0,0,0,6.5,12Z\"/>\n",
              "  </svg>\n",
              "    </button>\n",
              "    <script>\n",
              "      (() => {\n",
              "      const buttonEl =\n",
              "        document.querySelector('#id_f91687a9-761b-49ab-85ec-fab7cfb8999e button.colab-df-generate');\n",
              "      buttonEl.style.display =\n",
              "        google.colab.kernel.accessAllowed ? 'block' : 'none';\n",
              "\n",
              "      buttonEl.onclick = () => {\n",
              "        google.colab.notebook.generateWithVariable('df');\n",
              "      }\n",
              "      })();\n",
              "    </script>\n",
              "  </div>\n",
              "\n",
              "    </div>\n",
              "  </div>\n"
            ],
            "application/vnd.google.colaboratory.intrinsic+json": {
              "type": "dataframe",
              "variable_name": "df",
              "summary": "{\n  \"name\": \"df\",\n  \"rows\": 100,\n  \"fields\": [\n    {\n      \"column\": \"X1\",\n      \"properties\": {\n        \"dtype\": \"number\",\n        \"std\": 1.1721814939918593,\n        \"min\": 0.0,\n        \"max\": 4.0,\n        \"num_unique_values\": 100,\n        \"samples\": [\n          3.353535354,\n          2.141414141,\n          2.828282828\n        ],\n        \"semantic_type\": \"\",\n        \"description\": \"\"\n      }\n    },\n    {\n      \"column\": \"X2\",\n      \"properties\": {\n        \"dtype\": \"number\",\n        \"std\": 1.1721536398366212,\n        \"min\": 0.07030303,\n        \"max\": 3.949090909,\n        \"num_unique_values\": 100,\n        \"samples\": [\n          1.120808081,\n          0.272323232,\n          0.086464646\n        ],\n        \"semantic_type\": \"\",\n        \"description\": \"\"\n      }\n    },\n    {\n      \"column\": \"X3\",\n      \"properties\": {\n        \"dtype\": \"number\",\n        \"std\": 1.163004879154481,\n        \"min\": 0.027878788,\n        \"max\": 3.943030303,\n        \"num_unique_values\": 100,\n        \"samples\": [\n          1.664242424,\n          0.20969697,\n          3.833939394\n        ],\n        \"semantic_type\": \"\",\n        \"description\": \"\"\n      }\n    },\n    {\n      \"column\": \"Y\",\n      \"properties\": {\n        \"dtype\": \"number\",\n        \"std\": 2.77464264389285,\n        \"min\": -5.332454989,\n        \"max\": 5.545892118,\n        \"num_unique_values\": 100,\n        \"samples\": [\n          -1.678452336,\n          2.569971294,\n          -0.650022584\n        ],\n        \"semantic_type\": \"\",\n        \"description\": \"\"\n      }\n    }\n  ]\n}"
            }
          },
          "metadata": {}
        }
      ]
    },
    {
      "cell_type": "code",
      "source": [
        "X2 = df.values[:, 1]  # get input values from the first column -- X2 is a list here which is a 1 dimentional array\n",
        "y = df.values[:, 3]  # get output values from the second column --  Y is a list here which is a 2 dimentional array\n",
        "\n",
        "# Scatter plot\n",
        "plt.scatter(X2, y, color='green', marker='*')\n",
        "\n",
        "# Grid, labels, and title\n",
        "plt.grid(True)\n",
        "plt.rcParams[\"figure.figsize\"] = (10, 8)\n",
        "plt.xlabel('X2')\n",
        "plt.ylabel('Y')\n",
        "plt.title('Scatter plot of training data')\n",
        "\n",
        "# Show the plot\n",
        "plt.show()"
      ],
      "metadata": {
        "colab": {
          "base_uri": "https://localhost:8080/",
          "height": 564
        },
        "outputId": "e2d63a7e-c294-4a54-e730-6b7978e078b1",
        "id": "KvguHsAp2cnK"
      },
      "execution_count": 48,
      "outputs": [
        {
          "output_type": "display_data",
          "data": {
            "text/plain": [
              "<Figure size 1000x600 with 1 Axes>"
            ],
            "image/png": "[encoded data removed]"
          },
          "metadata": {}
        }
      ]
    },
    {
      "cell_type": "code",
      "source": [
        "X_0 = np.ones((m, 1))\n",
        "X_0[:5]"
      ],
      "metadata": {
        "colab": {
          "base_uri": "https://localhost:8080/"
        },
        "outputId": "92622379-9e42-4275-ae54-df4d2ac769cc",
        "id": "9xd7bZsH97sc"
      },
      "execution_count": 49,
      "outputs": [
        {
          "output_type": "execute_result",
          "data": {
            "text/plain": [
              "array([[1.],\n",
              "       [1.],\n",
              "       [1.],\n",
              "       [1.],\n",
              "       [1.]])"
            ]
          },
          "metadata": {},
          "execution_count": 49
        }
      ]
    },
    {
      "cell_type": "code",
      "source": [
        "X_2 = X2.reshape(m, 1)\n",
        "X_2[:10]"
      ],
      "metadata": {
        "colab": {
          "base_uri": "https://localhost:8080/"
        },
        "outputId": "510714c2-9393-4dd3-bab3-69313ecc0965",
        "id": "Cv4z2xxf-F8l"
      },
      "execution_count": 50,
      "outputs": [
        {
          "output_type": "execute_result",
          "data": {
            "text/plain": [
              "array([[3.44      ],\n",
              "       [0.1349495 ],\n",
              "       [0.82989899],\n",
              "       [1.52484848],\n",
              "       [2.21979798],\n",
              "       [2.91474747],\n",
              "       [3.60969697],\n",
              "       [0.30464646],\n",
              "       [0.99959596],\n",
              "       [1.69454546]])"
            ]
          },
          "metadata": {},
          "execution_count": 50
        }
      ]
    },
    {
      "cell_type": "code",
      "source": [
        "# Lets use hstack() function from numpy to stack X_0 and X_2 horizontally (i.e. column\n",
        "# This will be our final X matrix (feature matrix)\n",
        "X2 = np.hstack((X_0, X_2))\n",
        "X2[:5]"
      ],
      "metadata": {
        "colab": {
          "base_uri": "https://localhost:8080/"
        },
        "outputId": "63223ae9-0009-47be-b85e-5c72f06f067d",
        "id": "hObpmGst-Qg9"
      },
      "execution_count": 51,
      "outputs": [
        {
          "output_type": "execute_result",
          "data": {
            "text/plain": [
              "array([[1.        , 3.44      ],\n",
              "       [1.        , 0.1349495 ],\n",
              "       [1.        , 0.82989899],\n",
              "       [1.        , 1.52484848],\n",
              "       [1.        , 2.21979798]])"
            ]
          },
          "metadata": {},
          "execution_count": 51
        }
      ]
    },
    {
      "cell_type": "code",
      "source": [
        "theta = np.zeros(2)\n",
        "theta"
      ],
      "metadata": {
        "colab": {
          "base_uri": "https://localhost:8080/"
        },
        "outputId": "6a9ccee8-261d-4321-c1d9-c4eb40565efd",
        "id": "r3eIp1gW-Xw4"
      },
      "execution_count": 52,
      "outputs": [
        {
          "output_type": "execute_result",
          "data": {
            "text/plain": [
              "array([0., 0.])"
            ]
          },
          "metadata": {},
          "execution_count": 52
        }
      ]
    },
    {
      "cell_type": "code",
      "source": [
        "def compute_cost(X2, y, theta):\n",
        "    \"\"\"\n",
        "    Compute cost for linear regression.\n",
        "\n",
        "    Parameters:\n",
        "    X : 2D array where each row represents the training example and each column represent the feature\n",
        "        m = number of training examples\n",
        "        n = number of features (including X_0 column of ones)\n",
        "    y : 1D array of labels/target values for each training example. dimension(m)\n",
        "    theta : 1D array of fitting parameters or weights. Dimension (n)\n",
        "\n",
        "    Returns:\n",
        "    J : Scalar value, the cost\n",
        "    \"\"\"\n",
        "    predictions = X2.dot(theta)\n",
        "    errors = np.subtract(predictions, y)\n",
        "    sqrErrors = np.square(errors)\n",
        "    J = 1 / (2 * m) * np.sum(sqrErrors)\n",
        "    return J"
      ],
      "metadata": {
        "id": "avxuyylA-cDG"
      },
      "execution_count": 54,
      "outputs": []
    },
    {
      "cell_type": "code",
      "source": [
        "# Lets compute the cost for theta values\n",
        "cost = compute_cost(X2, y, theta)\n",
        "print('The cost for given values of theta_0 and theta_2 =', cost)"
      ],
      "metadata": {
        "colab": {
          "base_uri": "https://localhost:8080/"
        },
        "outputId": "ac3e8a61-eb61-4130-e56e-521ca0ad2d16",
        "id": "MjWbZ0HA-jbg"
      },
      "execution_count": 55,
      "outputs": [
        {
          "output_type": "stream",
          "name": "stdout",
          "text": [
            "The cost for given values of theta_0 and theta_2 = 5.524438459196242\n"
          ]
        }
      ]
    },
    {
      "cell_type": "code",
      "source": [
        "def gradient_descent(X2, y, theta, alpha, iterations):\n",
        "    \"\"\"\n",
        "    Compute the optimal parameters using gradient descent for linear regression.\n",
        "\n",
        "    Parameters:\n",
        "    X : 2D array where each row represents the training example and each column represents the feature\n",
        "        m = number of training examples\n",
        "        n = number of features (including X_0 column of ones)\n",
        "    y : 1D array of labels/target values for each training example. dimension(m)\n",
        "    theta : 1D array of fitting parameters or weights. Dimension (n)\n",
        "    alpha : Learning rate (scalar)\n",
        "    iterations : Number of iterations (scalar)\n",
        "\n",
        "    Returns:\n",
        "    theta : Updated values of fitting parameters or weights after 'iterations' iterations. Dimension (n)\n",
        "    cost_history : Array containing the cost for each iteration. Dimension (iterations)\n",
        "    \"\"\"\n",
        "\n",
        "    m = len(y)  # Number of training examples\n",
        "    cost_history = np.zeros(iterations)\n",
        "\n",
        "    for i in range(iterations):\n",
        "        predictions = X2.dot(theta)\n",
        "        errors = np.subtract(predictions, y)\n",
        "        sum_delta = (alpha / m) * X2.transpose().dot(errors)\n",
        "        theta -= sum_delta\n",
        "        cost_history[i] = compute_cost(X2, y, theta)\n",
        "\n",
        "    return theta, cost_history"
      ],
      "metadata": {
        "id": "Fx2SnJ0R_dRG"
      },
      "execution_count": 56,
      "outputs": []
    },
    {
      "cell_type": "code",
      "source": [
        "theta = [0., 0.]\n",
        "iterations = 500\n",
        "alpha = 0.01"
      ],
      "metadata": {
        "id": "J8bOsbcf_myx"
      },
      "execution_count": 57,
      "outputs": []
    },
    {
      "cell_type": "code",
      "source": [
        "theta, cost_history = gradient_descent(X2, y, theta, alpha, iterations)\n",
        "print('Final value of theta =', theta)\n",
        "print('cost_history =', cost_history)"
      ],
      "metadata": {
        "colab": {
          "base_uri": "https://localhost:8080/"
        },
        "outputId": "52e925b4-b837-4ce8-e0de-cbdf99bf9574",
        "id": "k0xJn_AZ_rDa"
      },
      "execution_count": 58,
      "outputs": [
        {
          "output_type": "stream",
          "name": "stdout",
          "text": [
            "Final value of theta = [0.5873825  0.61547444]\n",
            "cost_history = [5.29831663 5.09909109 4.92356115 4.76890697 4.63264432 4.51258457\n",
            " 4.40679959 4.31359066 4.23146123 4.15909287 4.09532401 4.03913134\n",
            " 3.98961331 3.94597567 3.90751868 3.87362588 3.84375417 3.81742507\n",
            " 3.79421705 3.77375874 3.75572297 3.73982151 3.72580041 3.71343596\n",
            " 3.70253105 3.69291206 3.684426   3.6769381  3.67032963 3.66449599\n",
            " 3.65934501 3.65479551 3.65077597 3.64722336 3.64408217 3.64130349\n",
            " 3.63884423 3.63666642 3.63473663 3.63302538 3.63150672 3.63015778\n",
            " 3.62895841 3.62789085 3.62693948 3.62609051 3.6253318  3.62465266\n",
            " 3.62404367 3.62349652 3.62300392 3.6225594  3.6221573  3.62179261\n",
            " 3.62146092 3.62115837 3.62088152 3.62062736 3.62039324 3.62017681\n",
            " 3.61997602 3.61978905 3.61961431 3.61945037 3.619296   3.6191501\n",
            " 3.61901172 3.61887999 3.61875417 3.61863361 3.61851771 3.61840596\n",
            " 3.61829792 3.61819319 3.6180914  3.61799227 3.6178955  3.61780087\n",
            " 3.61770816 3.61761718 3.61752776 3.61743977 3.61735307 3.61726755\n",
            " 3.61718311 3.61709967 3.61701714 3.61693545 3.61685454 3.61677437\n",
            " 3.61669488 3.61661603 3.61653779 3.61646011 3.61638298 3.61630636\n",
            " 3.61623023 3.61615458 3.61607938 3.61600462 3.61593028 3.61585635\n",
            " 3.61578282 3.61570968 3.61563692 3.61556453 3.61549251 3.61542084\n",
            " 3.61534952 3.61527855 3.61520791 3.61513762 3.61506765 3.61499801\n",
            " 3.6149287  3.6148597  3.61479103 3.61472267 3.61465462 3.61458688\n",
            " 3.61451944 3.61445232 3.61438549 3.61431897 3.61425274 3.61418681\n",
            " 3.61412118 3.61405584 3.61399079 3.61392604 3.61386157 3.61379739\n",
            " 3.61373349 3.61366988 3.61360655 3.6135435  3.61348074 3.61341825\n",
            " 3.61335604 3.6132941  3.61323244 3.61317106 3.61310994 3.6130491\n",
            " 3.61298853 3.61292822 3.61286818 3.61280841 3.6127489  3.61268966\n",
            " 3.61263068 3.61257196 3.6125135  3.6124553  3.61239735 3.61233967\n",
            " 3.61228224 3.61222506 3.61216814 3.61211146 3.61205504 3.61199887\n",
            " 3.61194295 3.61188728 3.61183185 3.61177666 3.61172173 3.61166703\n",
            " 3.61161258 3.61155836 3.61150439 3.61145066 3.61139716 3.61134391\n",
            " 3.61129088 3.61123809 3.61118554 3.61113322 3.61108113 3.61102927\n",
            " 3.61097764 3.61092624 3.61087506 3.61082412 3.61077339 3.6107229\n",
            " 3.61067262 3.61062257 3.61057274 3.61052313 3.61047374 3.61042457\n",
            " 3.61037562 3.61032688 3.61027836 3.61023006 3.61018197 3.61013409\n",
            " 3.61008642 3.61003896 3.60999172 3.60994468 3.60989785 3.60985123\n",
            " 3.60980481 3.6097586  3.6097126  3.6096668  3.6096212  3.6095758\n",
            " 3.60953061 3.60948561 3.60944081 3.60939622 3.60935182 3.60930761\n",
            " 3.6092636  3.60921979 3.60917617 3.60913274 3.60908951 3.60904646\n",
            " 3.60900361 3.60896095 3.60891847 3.60887619 3.60883409 3.60879218\n",
            " 3.60875045 3.60870891 3.60866755 3.60862637 3.60858538 3.60854457\n",
            " 3.60850394 3.60846349 3.60842322 3.60838312 3.60834321 3.60830347\n",
            " 3.6082639  3.60822452 3.6081853  3.60814626 3.60810739 3.6080687\n",
            " 3.60803017 3.60799182 3.60795364 3.60791562 3.60787777 3.60784009\n",
            " 3.60780258 3.60776524 3.60772805 3.60769104 3.60765419 3.6076175\n",
            " 3.60758097 3.6075446  3.6075084  3.60747236 3.60743647 3.60740075\n",
            " 3.60736518 3.60732977 3.60729452 3.60725942 3.60722448 3.60718969\n",
            " 3.60715506 3.60712058 3.60708625 3.60705207 3.60701805 3.60698418\n",
            " 3.60695045 3.60691688 3.60688345 3.60685018 3.60681704 3.60678406\n",
            " 3.60675122 3.60671853 3.60668598 3.60665358 3.60662132 3.6065892\n",
            " 3.60655723 3.60652539 3.6064937  3.60646215 3.60643074 3.60639946\n",
            " 3.60636833 3.60633733 3.60630647 3.60627575 3.60624516 3.60621471\n",
            " 3.60618439 3.60615421 3.60612416 3.60609424 3.60606446 3.60603481\n",
            " 3.60600529 3.6059759  3.60594664 3.60591751 3.6058885  3.60585963\n",
            " 3.60583088 3.60580227 3.60577378 3.60574541 3.60571717 3.60568906\n",
            " 3.60566107 3.6056332  3.60560546 3.60557784 3.60555034 3.60552296\n",
            " 3.60549571 3.60546857 3.60544156 3.60541466 3.60538789 3.60536123\n",
            " 3.60533469 3.60530827 3.60528196 3.60525578 3.6052297  3.60520375\n",
            " 3.60517791 3.60515218 3.60512656 3.60510106 3.60507568 3.6050504\n",
            " 3.60502524 3.60500019 3.60497525 3.60495041 3.60492569 3.60490108\n",
            " 3.60487658 3.60485219 3.6048279  3.60480372 3.60477965 3.60475569\n",
            " 3.60473183 3.60470808 3.60468443 3.60466089 3.60463745 3.60461411\n",
            " 3.60459088 3.60456775 3.60454472 3.6045218  3.60449898 3.60447625\n",
            " 3.60445363 3.60443111 3.60440869 3.60438637 3.60436414 3.60434202\n",
            " 3.60431999 3.60429806 3.60427623 3.60425449 3.60423285 3.60421131\n",
            " 3.60418986 3.60416851 3.60414725 3.60412608 3.60410501 3.60408403\n",
            " 3.60406315 3.60404235 3.60402165 3.60400104 3.60398052 3.6039601\n",
            " 3.60393976 3.60391951 3.60389936 3.60387929 3.60385931 3.60383942\n",
            " 3.60381962 3.6037999  3.60378028 3.60376073 3.60374128 3.60372191\n",
            " 3.60370263 3.60368343 3.60366432 3.60364529 3.60362635 3.60360749\n",
            " 3.60358872 3.60357002 3.60355141 3.60353289 3.60351444 3.60349608\n",
            " 3.60347779 3.60345959 3.60344147 3.60342343 3.60340547 3.60338759\n",
            " 3.60336978 3.60335206 3.60333442 3.60331685 3.60329936 3.60328195\n",
            " 3.60326461 3.60324736 3.60323017 3.60321307 3.60319604 3.60317908\n",
            " 3.6031622  3.6031454  3.60312867 3.60311201 3.60309543 3.60307892\n",
            " 3.60306249 3.60304612 3.60302983 3.60301361 3.60299747 3.60298139\n",
            " 3.60296539 3.60294945 3.60293359 3.6029178  3.60290208 3.60288642\n",
            " 3.60287084 3.60285532 3.60283988 3.6028245  3.60280919 3.60279395\n",
            " 3.60277877 3.60276367 3.60274863 3.60273365 3.60271874 3.6027039\n",
            " 3.60268913 3.60267442 3.60265977 3.60264519 3.60263067 3.60261622\n",
            " 3.60260183 3.60258751 3.60257325 3.60255905 3.60254492 3.60253085\n",
            " 3.60251684 3.60250289 3.602489   3.60247518 3.60246141 3.60244771\n",
            " 3.60243407 3.60242049 3.60240697 3.60239351 3.6023801  3.60236676\n",
            " 3.60235348 3.60234025 3.60232709 3.60231398 3.60230093 3.60228794\n",
            " 3.602275   3.60226213 3.60224931 3.60223654 3.60222384 3.60221118\n",
            " 3.60219859 3.60218605]\n"
          ]
        }
      ]
    },
    {
      "cell_type": "code",
      "source": [
        "\n",
        "# Assuming that X, y, and theta are already defined\n",
        "# Also assuming that X has two columns: a feature column and a column of ones\n",
        "\n",
        "# Scatter plot for the training data\n",
        "plt.scatter(X2[:, 1], y, color='green', marker='*', label='Training Data')\n",
        "\n",
        "# Line plot for the linear regression model\n",
        "plt.plot(X2[:, 1], X2.dot(theta), color='yellow', label='Linear Regression')\n",
        "\n",
        "# Plot customizations\n",
        "plt.rcParams[\"figure.figsize\"] = (10, 6)\n",
        "plt.grid(True)\n",
        "plt.xlabel('X2')\n",
        "plt.ylabel('Y')\n",
        "plt.title('Linear Regression Fit')\n",
        "plt.legend()\n",
        "\n",
        "# Show the plot\n",
        "plt.show()\n"
      ],
      "metadata": {
        "colab": {
          "base_uri": "https://localhost:8080/",
          "height": 718
        },
        "outputId": "cc032df0-bdee-4702-c7a1-8172a284df0b",
        "id": "JcZXocPh_xH4"
      },
      "execution_count": 59,
      "outputs": [
        {
          "output_type": "display_data",
          "data": {
            "text/plain": [
              "<Figure size 1000x800 with 1 Axes>"
            ],
            "image/png": "[encoded data removed]"
          },
          "metadata": {}
        }
      ]
    },
    {
      "cell_type": "code",
      "source": [
        "\n",
        "\n",
        "plt.plot(range(1, iterations + 1), cost_history, color='blue')\n",
        "plt.rcParams[\"figure.figsize\"] = (10, 6)\n",
        "plt.grid(True)\n",
        "\n",
        "plt.xlabel('Number of iterations')\n",
        "plt.ylabel('Cost (J)')\n",
        "plt.title('Convergence of gradient descent')\n",
        "\n",
        "# Show the plot\n",
        "plt.show()"
      ],
      "metadata": {
        "colab": {
          "base_uri": "https://localhost:8080/",
          "height": 564
        },
        "outputId": "38a8701f-6cca-4421-8fe8-6df9b7dc9520",
        "id": "G_th1PYpEsCA"
      },
      "execution_count": 60,
      "outputs": [
        {
          "output_type": "display_data",
          "data": {
            "text/plain": [
              "<Figure size 1000x600 with 1 Axes>"
            ],
            "image/png": "[encoded data removed]"
          },
          "metadata": {}
        }
      ]
    },
    {
      "cell_type": "markdown",
      "source": [
        "X3"
      ],
      "metadata": {
        "id": "ID5doKSvEfza"
      }
    },
    {
      "cell_type": "code",
      "source": [
        "from IPython.display import display\n",
        "display(df)"
      ],
      "metadata": {
        "colab": {
          "base_uri": "https://localhost:8080/",
          "height": 423
        },
        "outputId": "1cf45d5f-e4dd-4841-b9f1-0b1d79292c06",
        "id": "bgmJzwEUEPe6"
      },
      "execution_count": 8,
      "outputs": [
        {
          "output_type": "display_data",
          "data": {
            "text/plain": [
              "          X1        X2        X3         Y\n",
              "0   0.000000  3.440000  0.440000  4.387545\n",
              "1   0.040404  0.134949  0.888485  2.679650\n",
              "2   0.080808  0.829899  1.336970  2.968490\n",
              "3   0.121212  1.524848  1.785455  3.254065\n",
              "4   0.161616  2.219798  2.233939  3.536375\n",
              "..       ...       ...       ...       ...\n",
              "95  3.838384  1.460202  3.046061 -4.440595\n",
              "96  3.878788  2.155152  3.494545 -4.458663\n",
              "97  3.919192  2.850101  3.943030 -4.479995\n",
              "98  3.959596  3.545051  0.391515 -3.304593\n",
              "99  4.000000  0.240000  0.840000 -5.332455\n",
              "\n",
              "[100 rows x 4 columns]"
            ],
            "text/html": [
              "\n",
              "  <div id=\"df-a469c42b-2b13-422f-b3d3-2263a644766f\" class=\"colab-df-container\">\n",
              "    <div>\n",
              "<style scoped>\n",
              "    .dataframe tbody tr th:only-of-type {\n",
              "        vertical-align: middle;\n",
              "    }\n",
              "\n",
              "    .dataframe tbody tr th {\n",
              "        vertical-align: top;\n",
              "    }\n",
              "\n",
              "    .dataframe thead th {\n",
              "        text-align: right;\n",
              "    }\n",
              "</style>\n",
              "<table border=\"1\" class=\"dataframe\">\n",
              "  <thead>\n",
              "    <tr style=\"text-align: right;\">\n",
              "      <th></th>\n",
              "      <th>X1</th>\n",
              "      <th>X2</th>\n",
              "      <th>X3</th>\n",
              "      <th>Y</th>\n",
              "    </tr>\n",
              "  </thead>\n",
              "  <tbody>\n",
              "    <tr>\n",
              "      <th>0</th>\n",
              "      <td>0.000000</td>\n",
              "      <td>3.440000</td>\n",
              "      <td>0.440000</td>\n",
              "      <td>4.387545</td>\n",
              "    </tr>\n",
              "    <tr>\n",
              "      <th>1</th>\n",
              "      <td>0.040404</td>\n",
              "      <td>0.134949</td>\n",
              "      <td>0.888485</td>\n",
              "      <td>2.679650</td>\n",
              "    </tr>\n",
              "    <tr>\n",
              "      <th>2</th>\n",
              "      <td>0.080808</td>\n",
              "      <td>0.829899</td>\n",
              "      <td>1.336970</td>\n",
              "      <td>2.968490</td>\n",
              "    </tr>\n",
              "    <tr>\n",
              "      <th>3</th>\n",
              "      <td>0.121212</td>\n",
              "      <td>1.524848</td>\n",
              "      <td>1.785455</td>\n",
              "      <td>3.254065</td>\n",
              "    </tr>\n",
              "    <tr>\n",
              "      <th>4</th>\n",
              "      <td>0.161616</td>\n",
              "      <td>2.219798</td>\n",
              "      <td>2.233939</td>\n",
              "      <td>3.536375</td>\n",
              "    </tr>\n",
              "    <tr>\n",
              "      <th>...</th>\n",
              "      <td>...</td>\n",
              "      <td>...</td>\n",
              "      <td>...</td>\n",
              "      <td>...</td>\n",
              "    </tr>\n",
              "    <tr>\n",
              "      <th>95</th>\n",
              "      <td>3.838384</td>\n",
              "      <td>1.460202</td>\n",
              "      <td>3.046061</td>\n",
              "      <td>-4.440595</td>\n",
              "    </tr>\n",
              "    <tr>\n",
              "      <th>96</th>\n",
              "      <td>3.878788</td>\n",
              "      <td>2.155152</td>\n",
              "      <td>3.494545</td>\n",
              "      <td>-4.458663</td>\n",
              "    </tr>\n",
              "    <tr>\n",
              "      <th>97</th>\n",
              "      <td>3.919192</td>\n",
              "      <td>2.850101</td>\n",
              "      <td>3.943030</td>\n",
              "      <td>-4.479995</td>\n",
              "    </tr>\n",
              "    <tr>\n",
              "      <th>98</th>\n",
              "      <td>3.959596</td>\n",
              "      <td>3.545051</td>\n",
              "      <td>0.391515</td>\n",
              "      <td>-3.304593</td>\n",
              "    </tr>\n",
              "    <tr>\n",
              "      <th>99</th>\n",
              "      <td>4.000000</td>\n",
              "      <td>0.240000</td>\n",
              "      <td>0.840000</td>\n",
              "      <td>-5.332455</td>\n",
              "    </tr>\n",
              "  </tbody>\n",
              "</table>\n",
              "<p>100 rows × 4 columns</p>\n",
              "</div>\n",
              "    <div class=\"colab-df-buttons\">\n",
              "\n",
              "  <div class=\"colab-df-container\">\n",
              "    <button class=\"colab-df-convert\" onclick=\"convertToInteractive('df-a469c42b-2b13-422f-b3d3-2263a644766f')\"\n",
              "            title=\"Convert this dataframe to an interactive table.\"\n",
              "            style=\"display:none;\">\n",
              "\n",
              "  <svg xmlns=\"http://www.w3.org/2000/svg\" height=\"24px\" viewBox=\"0 -960 960 960\">\n",
              "    <path d=\"M120-120v-720h720v720H120Zm60-500h600v-160H180v160Zm220 220h160v-160H400v160Zm0 220h160v-160H400v160ZM180-400h160v-160H180v160Zm440 0h160v-160H620v160ZM180-180h160v-160H180v160Zm440 0h160v-160H620v160Z\"/>\n",
              "  </svg>\n",
              "    </button>\n",
              "\n",
              "  <style>\n",
              "    .colab-df-container {\n",
              "      display:flex;\n",
              "      gap: 12px;\n",
              "    }\n",
              "\n",
              "    .colab-df-convert {\n",
              "      background-color: #E8F0FE;\n",
              "      border: none;\n",
              "      border-radius: 50%;\n",
              "      cursor: pointer;\n",
              "      display: none;\n",
              "      fill: #1967D2;\n",
              "      height: 32px;\n",
              "      padding: 0 0 0 0;\n",
              "      width: 32px;\n",
              "    }\n",
              "\n",
              "    .colab-df-convert:hover {\n",
              "      background-color: #E2EBFA;\n",
              "      box-shadow: 0px 1px 2px rgba(60, 64, 67, 0.3), 0px 1px 3px 1px rgba(60, 64, 67, 0.15);\n",
              "      fill: #174EA6;\n",
              "    }\n",
              "\n",
              "    .colab-df-buttons div {\n",
              "      margin-bottom: 4px;\n",
              "    }\n",
              "\n",
              "    [theme=dark] .colab-df-convert {\n",
              "      background-color: #3B4455;\n",
              "      fill: #D2E3FC;\n",
              "    }\n",
              "\n",
              "    [theme=dark] .colab-df-convert:hover {\n",
              "      background-color: #434B5C;\n",
              "      box-shadow: 0px 1px 3px 1px rgba(0, 0, 0, 0.15);\n",
              "      filter: drop-shadow(0px 1px 2px rgba(0, 0, 0, 0.3));\n",
              "      fill: #FFFFFF;\n",
              "    }\n",
              "  </style>\n",
              "\n",
              "    <script>\n",
              "      const buttonEl =\n",
              "        document.querySelector('#df-a469c42b-2b13-422f-b3d3-2263a644766f button.colab-df-convert');\n",
              "      buttonEl.style.display =\n",
              "        google.colab.kernel.accessAllowed ? 'block' : 'none';\n",
              "\n",
              "      async function convertToInteractive(key) {\n",
              "        const element = document.querySelector('#df-a469c42b-2b13-422f-b3d3-2263a644766f');\n",
              "        const dataTable =\n",
              "          await google.colab.kernel.invokeFunction('convertToInteractive',\n",
              "                                                    [key], {});\n",
              "        if (!dataTable) return;\n",
              "\n",
              "        const docLinkHtml = 'Like what you see? Visit the ' +\n",
              "          '<a target=\"_blank\" href=https://colab.research.google.com/notebooks/data_table.ipynb>data table notebook</a>'\n",
              "          + ' to learn more about interactive tables.';\n",
              "        element.innerHTML = '';\n",
              "        dataTable['output_type'] = 'display_data';\n",
              "        await google.colab.output.renderOutput(dataTable, element);\n",
              "        const docLink = document.createElement('div');\n",
              "        docLink.innerHTML = docLinkHtml;\n",
              "        element.appendChild(docLink);\n",
              "      }\n",
              "    </script>\n",
              "  </div>\n",
              "\n",
              "\n",
              "    <div id=\"df-b62c89c5-8ac9-47df-b265-256127ebe963\">\n",
              "      <button class=\"colab-df-quickchart\" onclick=\"quickchart('df-b62c89c5-8ac9-47df-b265-256127ebe963')\"\n",
              "                title=\"Suggest charts\"\n",
              "                style=\"display:none;\">\n",
              "\n",
              "<svg xmlns=\"http://www.w3.org/2000/svg\" height=\"24px\"viewBox=\"0 0 24 24\"\n",
              "     width=\"24px\">\n",
              "    <g>\n",
              "        <path d=\"M19 3H5c-1.1 0-2 .9-2 2v14c0 1.1.9 2 2 2h14c1.1 0 2-.9 2-2V5c0-1.1-.9-2-2-2zM9 17H7v-7h2v7zm4 0h-2V7h2v10zm4 0h-2v-4h2v4z\"/>\n",
              "    </g>\n",
              "</svg>\n",
              "      </button>\n",
              "\n",
              "<style>\n",
              "  .colab-df-quickchart {\n",
              "      --bg-color: #E8F0FE;\n",
              "      --fill-color: #1967D2;\n",
              "      --hover-bg-color: #E2EBFA;\n",
              "      --hover-fill-color: #174EA6;\n",
              "      --disabled-fill-color: #AAA;\n",
              "      --disabled-bg-color: #DDD;\n",
              "  }\n",
              "\n",
              "  [theme=dark] .colab-df-quickchart {\n",
              "      --bg-color: #3B4455;\n",
              "      --fill-color: #D2E3FC;\n",
              "      --hover-bg-color: #434B5C;\n",
              "      --hover-fill-color: #FFFFFF;\n",
              "      --disabled-bg-color: #3B4455;\n",
              "      --disabled-fill-color: #666;\n",
              "  }\n",
              "\n",
              "  .colab-df-quickchart {\n",
              "    background-color: var(--bg-color);\n",
              "    border: none;\n",
              "    border-radius: 50%;\n",
              "    cursor: pointer;\n",
              "    display: none;\n",
              "    fill: var(--fill-color);\n",
              "    height: 32px;\n",
              "    padding: 0;\n",
              "    width: 32px;\n",
              "  }\n",
              "\n",
              "  .colab-df-quickchart:hover {\n",
              "    background-color: var(--hover-bg-color);\n",
              "    box-shadow: 0 1px 2px rgba(60, 64, 67, 0.3), 0 1px 3px 1px rgba(60, 64, 67, 0.15);\n",
              "    fill: var(--button-hover-fill-color);\n",
              "  }\n",
              "\n",
              "  .colab-df-quickchart-complete:disabled,\n",
              "  .colab-df-quickchart-complete:disabled:hover {\n",
              "    background-color: var(--disabled-bg-color);\n",
              "    fill: var(--disabled-fill-color);\n",
              "    box-shadow: none;\n",
              "  }\n",
              "\n",
              "  .colab-df-spinner {\n",
              "    border: 2px solid var(--fill-color);\n",
              "    border-color: transparent;\n",
              "    border-bottom-color: var(--fill-color);\n",
              "    animation:\n",
              "      spin 1s steps(1) infinite;\n",
              "  }\n",
              "\n",
              "  @keyframes spin {\n",
              "    0% {\n",
              "      border-color: transparent;\n",
              "      border-bottom-color: var(--fill-color);\n",
              "      border-left-color: var(--fill-color);\n",
              "    }\n",
              "    20% {\n",
              "      border-color: transparent;\n",
              "      border-left-color: var(--fill-color);\n",
              "      border-top-color: var(--fill-color);\n",
              "    }\n",
              "    30% {\n",
              "      border-color: transparent;\n",
              "      border-left-color: var(--fill-color);\n",
              "      border-top-color: var(--fill-color);\n",
              "      border-right-color: var(--fill-color);\n",
              "    }\n",
              "    40% {\n",
              "      border-color: transparent;\n",
              "      border-right-color: var(--fill-color);\n",
              "      border-top-color: var(--fill-color);\n",
              "    }\n",
              "    60% {\n",
              "      border-color: transparent;\n",
              "      border-right-color: var(--fill-color);\n",
              "    }\n",
              "    80% {\n",
              "      border-color: transparent;\n",
              "      border-right-color: var(--fill-color);\n",
              "      border-bottom-color: var(--fill-color);\n",
              "    }\n",
              "    90% {\n",
              "      border-color: transparent;\n",
              "      border-bottom-color: var(--fill-color);\n",
              "    }\n",
              "  }\n",
              "</style>\n",
              "\n",
              "      <script>\n",
              "        async function quickchart(key) {\n",
              "          const quickchartButtonEl =\n",
              "            document.querySelector('#' + key + ' button');\n",
              "          quickchartButtonEl.disabled = true;  // To prevent multiple clicks.\n",
              "          quickchartButtonEl.classList.add('colab-df-spinner');\n",
              "          try {\n",
              "            const charts = await google.colab.kernel.invokeFunction(\n",
              "                'suggestCharts', [key], {});\n",
              "          } catch (error) {\n",
              "            console.error('Error during call to suggestCharts:', error);\n",
              "          }\n",
              "          quickchartButtonEl.classList.remove('colab-df-spinner');\n",
              "          quickchartButtonEl.classList.add('colab-df-quickchart-complete');\n",
              "        }\n",
              "        (() => {\n",
              "          let quickchartButtonEl =\n",
              "            document.querySelector('#df-b62c89c5-8ac9-47df-b265-256127ebe963 button');\n",
              "          quickchartButtonEl.style.display =\n",
              "            google.colab.kernel.accessAllowed ? 'block' : 'none';\n",
              "        })();\n",
              "      </script>\n",
              "    </div>\n",
              "\n",
              "  <div id=\"id_48bbfcce-b83d-4859-b662-6d4c60b92ec9\">\n",
              "    <style>\n",
              "      .colab-df-generate {\n",
              "        background-color: #E8F0FE;\n",
              "        border: none;\n",
              "        border-radius: 50%;\n",
              "        cursor: pointer;\n",
              "        display: none;\n",
              "        fill: #1967D2;\n",
              "        height: 32px;\n",
              "        padding: 0 0 0 0;\n",
              "        width: 32px;\n",
              "      }\n",
              "\n",
              "      .colab-df-generate:hover {\n",
              "        background-color: #E2EBFA;\n",
              "        box-shadow: 0px 1px 2px rgba(60, 64, 67, 0.3), 0px 1px 3px 1px rgba(60, 64, 67, 0.15);\n",
              "        fill: #174EA6;\n",
              "      }\n",
              "\n",
              "      [theme=dark] .colab-df-generate {\n",
              "        background-color: #3B4455;\n",
              "        fill: #D2E3FC;\n",
              "      }\n",
              "\n",
              "      [theme=dark] .colab-df-generate:hover {\n",
              "        background-color: #434B5C;\n",
              "        box-shadow: 0px 1px 3px 1px rgba(0, 0, 0, 0.15);\n",
              "        filter: drop-shadow(0px 1px 2px rgba(0, 0, 0, 0.3));\n",
              "        fill: #FFFFFF;\n",
              "      }\n",
              "    </style>\n",
              "    <button class=\"colab-df-generate\" onclick=\"generateWithVariable('df')\"\n",
              "            title=\"Generate code using this dataframe.\"\n",
              "            style=\"display:none;\">\n",
              "\n",
              "  <svg xmlns=\"http://www.w3.org/2000/svg\" height=\"24px\"viewBox=\"0 0 24 24\"\n",
              "       width=\"24px\">\n",
              "    <path d=\"M7,19H8.4L18.45,9,17,7.55,7,17.6ZM5,21V16.75L18.45,3.32a2,2,0,0,1,2.83,0l1.4,1.43a1.91,1.91,0,0,1,.58,1.4,1.91,1.91,0,0,1-.58,1.4L9.25,21ZM18.45,9,17,7.55Zm-12,3A5.31,5.31,0,0,0,4.9,8.1,5.31,5.31,0,0,0,1,6.5,5.31,5.31,0,0,0,4.9,4.9,5.31,5.31,0,0,0,6.5,1,5.31,5.31,0,0,0,8.1,4.9,5.31,5.31,0,0,0,12,6.5,5.46,5.46,0,0,0,6.5,12Z\"/>\n",
              "  </svg>\n",
              "    </button>\n",
              "    <script>\n",
              "      (() => {\n",
              "      const buttonEl =\n",
              "        document.querySelector('#id_48bbfcce-b83d-4859-b662-6d4c60b92ec9 button.colab-df-generate');\n",
              "      buttonEl.style.display =\n",
              "        google.colab.kernel.accessAllowed ? 'block' : 'none';\n",
              "\n",
              "      buttonEl.onclick = () => {\n",
              "        google.colab.notebook.generateWithVariable('df');\n",
              "      }\n",
              "      })();\n",
              "    </script>\n",
              "  </div>\n",
              "\n",
              "    </div>\n",
              "  </div>\n"
            ],
            "application/vnd.google.colaboratory.intrinsic+json": {
              "type": "dataframe",
              "variable_name": "df",
              "summary": "{\n  \"name\": \"df\",\n  \"rows\": 100,\n  \"fields\": [\n    {\n      \"column\": \"X1\",\n      \"properties\": {\n        \"dtype\": \"number\",\n        \"std\": 1.1721814939918593,\n        \"min\": 0.0,\n        \"max\": 4.0,\n        \"num_unique_values\": 100,\n        \"samples\": [\n          3.353535354,\n          2.141414141,\n          2.828282828\n        ],\n        \"semantic_type\": \"\",\n        \"description\": \"\"\n      }\n    },\n    {\n      \"column\": \"X2\",\n      \"properties\": {\n        \"dtype\": \"number\",\n        \"std\": 1.1721536398366212,\n        \"min\": 0.07030303,\n        \"max\": 3.949090909,\n        \"num_unique_values\": 100,\n        \"samples\": [\n          1.120808081,\n          0.272323232,\n          0.086464646\n        ],\n        \"semantic_type\": \"\",\n        \"description\": \"\"\n      }\n    },\n    {\n      \"column\": \"X3\",\n      \"properties\": {\n        \"dtype\": \"number\",\n        \"std\": 1.163004879154481,\n        \"min\": 0.027878788,\n        \"max\": 3.943030303,\n        \"num_unique_values\": 100,\n        \"samples\": [\n          1.664242424,\n          0.20969697,\n          3.833939394\n        ],\n        \"semantic_type\": \"\",\n        \"description\": \"\"\n      }\n    },\n    {\n      \"column\": \"Y\",\n      \"properties\": {\n        \"dtype\": \"number\",\n        \"std\": 2.77464264389285,\n        \"min\": -5.332454989,\n        \"max\": 5.545892118,\n        \"num_unique_values\": 100,\n        \"samples\": [\n          -1.678452336,\n          2.569971294,\n          -0.650022584\n        ],\n        \"semantic_type\": \"\",\n        \"description\": \"\"\n      }\n    }\n  ]\n}"
            }
          },
          "metadata": {}
        }
      ]
    },
    {
      "cell_type": "code",
      "source": [
        "X3 = df.values[:, 2]  # get input values from the first column -- X3 is a list here which is a 1 dimentional array\n",
        "y = df.values[:, 3]  # get output values from the second column --  Y is a list here which is a 2 dimentional array\n",
        "\n",
        "# Scatter plot\n",
        "plt.scatter(X3, y, color='green', marker='*')\n",
        "\n",
        "# Grid, labels, and title\n",
        "plt.grid(True)\n",
        "plt.rcParams[\"figure.figsize\"] = (10, 8)\n",
        "plt.xlabel('X3')\n",
        "plt.ylabel('Y')\n",
        "plt.title('Scatter plot of training data')\n",
        "\n",
        "# Show the plot\n",
        "plt.show()"
      ],
      "metadata": {
        "colab": {
          "base_uri": "https://localhost:8080/",
          "height": 472
        },
        "outputId": "8274cebc-b82f-49df-eb4b-dd6d3c81e60c",
        "id": "2t7gSvIwFIzq"
      },
      "execution_count": 9,
      "outputs": [
        {
          "output_type": "display_data",
          "data": {
            "text/plain": [
              "<Figure size 640x480 with 1 Axes>"
            ],
            "image/png": "[encoded data removed]"
          },
          "metadata": {}
        }
      ]
    },
    {
      "cell_type": "code",
      "source": [
        "X_0 = np.ones((m, 1))\n",
        "X_0[:5]"
      ],
      "metadata": {
        "colab": {
          "base_uri": "https://localhost:8080/"
        },
        "outputId": "32a6ac70-809d-48b9-99ed-c127f34bbdc0",
        "id": "v7Bq8igrEZUf"
      },
      "execution_count": 10,
      "outputs": [
        {
          "output_type": "execute_result",
          "data": {
            "text/plain": [
              "array([[1.],\n",
              "       [1.],\n",
              "       [1.],\n",
              "       [1.],\n",
              "       [1.]])"
            ]
          },
          "metadata": {},
          "execution_count": 10
        }
      ]
    },
    {
      "cell_type": "code",
      "source": [
        "X_3 = X3.reshape(m, 1)\n",
        "X_3[:10]"
      ],
      "metadata": {
        "colab": {
          "base_uri": "https://localhost:8080/"
        },
        "outputId": "2e9d5ade-fe79-4240-b0ab-9370fc6c3f2c",
        "id": "HvFEdIGDFVpv"
      },
      "execution_count": 11,
      "outputs": [
        {
          "output_type": "execute_result",
          "data": {
            "text/plain": [
              "array([[0.44      ],\n",
              "       [0.88848485],\n",
              "       [1.3369697 ],\n",
              "       [1.78545454],\n",
              "       [2.23393939],\n",
              "       [2.68242424],\n",
              "       [3.13090909],\n",
              "       [3.57939394],\n",
              "       [0.02787879],\n",
              "       [0.47636364]])"
            ]
          },
          "metadata": {},
          "execution_count": 11
        }
      ]
    },
    {
      "cell_type": "code",
      "source": [
        "# Lets use hstack() function from numpy to stack X_0 and X_3 horizontally (i.e. column\n",
        "# This will be our final X matrix (feature matrix)\n",
        "X3 = np.hstack((X_0, X_3))\n",
        "X3[:5]"
      ],
      "metadata": {
        "colab": {
          "base_uri": "https://localhost:8080/"
        },
        "outputId": "8231b09f-9033-4bb3-824a-88d4ab32a461",
        "id": "eec2tpOsFg4N"
      },
      "execution_count": 12,
      "outputs": [
        {
          "output_type": "execute_result",
          "data": {
            "text/plain": [
              "array([[1.        , 0.44      ],\n",
              "       [1.        , 0.88848485],\n",
              "       [1.        , 1.3369697 ],\n",
              "       [1.        , 1.78545454],\n",
              "       [1.        , 2.23393939]])"
            ]
          },
          "metadata": {},
          "execution_count": 12
        }
      ]
    },
    {
      "cell_type": "code",
      "source": [
        "theta = np.zeros(2)\n",
        "theta"
      ],
      "metadata": {
        "colab": {
          "base_uri": "https://localhost:8080/"
        },
        "outputId": "a76da4bf-eef2-4d73-a0b2-d398d7ebe05d",
        "id": "kO4bhroWFpvm"
      },
      "execution_count": 13,
      "outputs": [
        {
          "output_type": "execute_result",
          "data": {
            "text/plain": [
              "array([0., 0.])"
            ]
          },
          "metadata": {},
          "execution_count": 13
        }
      ]
    },
    {
      "cell_type": "code",
      "source": [
        "def compute_cost(X3, y, theta):\n",
        "    \"\"\"\n",
        "    Compute cost for linear regression.\n",
        "\n",
        "    Parameters:\n",
        "    X : 2D array where each row represents the training example and each column represent the feature\n",
        "        m = number of training examples\n",
        "        n = number of features (including X_0 column of ones)\n",
        "    y : 1D array of labels/target values for each training example. dimension(m)\n",
        "    theta : 1D array of fitting parameters or weights. Dimension (n)\n",
        "\n",
        "    Returns:\n",
        "    J : Scalar value, the cost\n",
        "    \"\"\"\n",
        "    predictions = X3.dot(theta)\n",
        "    errors = np.subtract(predictions, y)\n",
        "    sqrErrors = np.square(errors)\n",
        "    J = 1 / (2 * m) * np.sum(sqrErrors)\n",
        "    return J"
      ],
      "metadata": {
        "id": "POnbbFDRFxkP"
      },
      "execution_count": 14,
      "outputs": []
    },
    {
      "cell_type": "code",
      "source": [
        "# Lets compute the cost for theta values\n",
        "cost = compute_cost(X3, y, theta)\n",
        "print('The cost for given values of theta_0 and theta_3 =', cost)"
      ],
      "metadata": {
        "colab": {
          "base_uri": "https://localhost:8080/"
        },
        "outputId": "4ec80a18-06c3-4881-e936-f30fcfd491f5",
        "id": "6U54mylzF4G0"
      },
      "execution_count": 15,
      "outputs": [
        {
          "output_type": "stream",
          "name": "stdout",
          "text": [
            "The cost for given values of theta_0 and theta_3 = 5.524438459196242\n"
          ]
        }
      ]
    },
    {
      "cell_type": "code",
      "source": [
        "def gradient_descent(X3, y, theta, alpha, iterations):\n",
        "    \"\"\"\n",
        "    Compute the optimal parameters using gradient descent for linear regression.\n",
        "\n",
        "    Parameters:\n",
        "    X : 2D array where each row represents the training example and each column represents the feature\n",
        "        m = number of training examples\n",
        "        n = number of features (including X_0 column of ones)\n",
        "    y : 1D array of labels/target values for each training example. dimension(m)\n",
        "    theta : 1D array of fitting parameters or weights. Dimension (n)\n",
        "    alpha : Learning rate (scalar)\n",
        "    iterations : Number of iterations (scalar)\n",
        "\n",
        "    Returns:\n",
        "    theta : Updated values of fitting parameters or weights after 'iterations' iterations. Dimension (n)\n",
        "    cost_history : Array containing the cost for each iteration. Dimension (iterations)\n",
        "    \"\"\"\n",
        "\n",
        "    m = len(y)  # Number of training examples\n",
        "    cost_history = np.zeros(iterations)\n",
        "\n",
        "    for i in range(iterations):\n",
        "        predictions = X3.dot(theta)\n",
        "        errors = np.subtract(predictions, y)\n",
        "        sum_delta = (alpha / m) * X3.transpose().dot(errors)\n",
        "        theta -= sum_delta\n",
        "        cost_history[i] = compute_cost(X3, y, theta)\n",
        "\n",
        "    return theta, cost_history"
      ],
      "metadata": {
        "id": "e3lP1RmdGG-b"
      },
      "execution_count": 16,
      "outputs": []
    },
    {
      "cell_type": "code",
      "source": [
        "theta = [0., 0.]\n",
        "iterations = 1500\n",
        "alpha = 0.055"
      ],
      "metadata": {
        "id": "twhItJweGOVv"
      },
      "execution_count": 21,
      "outputs": []
    },
    {
      "cell_type": "code",
      "source": [
        "theta, cost_history = gradient_descent(X3, y, theta, alpha, iterations)\n",
        "print('Final value of theta =', theta)\n",
        "print('cost_history =', cost_history)"
      ],
      "metadata": {
        "colab": {
          "base_uri": "https://localhost:8080/"
        },
        "outputId": "c0bbd6bb-01dd-43f8-c1dc-d332161d58a3",
        "id": "OPsALKvqGTQX"
      },
      "execution_count": 22,
      "outputs": [
        {
          "output_type": "stream",
          "name": "stdout",
          "text": [
            "Final value of theta = [ 2.87142208 -0.52048288]\n",
            "cost_history = [4.96797455 4.70452383 4.57385344 ... 3.62945112 3.62945112 3.62945112]\n"
          ]
        }
      ]
    },
    {
      "cell_type": "code",
      "source": [
        "\n",
        "# Assuming that X, y, and theta are already defined\n",
        "# Also assuming that X has two columns: a feature column and a column of ones\n",
        "\n",
        "# Scatter plot for the training data\n",
        "plt.scatter(X3[:, 1], y, color='yellow', marker='.', label='Training Data')\n",
        "\n",
        "# Line plot for the linear regression model\n",
        "plt.plot(X3[:, 1], X3.dot(theta), color='red', label='Linear Regression')\n",
        "\n",
        "# Plot customizations\n",
        "plt.rcParams[\"figure.figsize\"] = (10, 6)\n",
        "plt.grid(True)\n",
        "plt.xlabel('X3')\n",
        "plt.ylabel('Y')\n",
        "plt.title('Linear Regression Fit')\n",
        "plt.legend()\n",
        "\n",
        "# Show the plot\n",
        "plt.show()\n"
      ],
      "metadata": {
        "colab": {
          "base_uri": "https://localhost:8080/",
          "height": 564
        },
        "outputId": "8ca6e7b9-379d-454f-baf5-90b9f1d659fb",
        "id": "SHtMKJ9wGfIR"
      },
      "execution_count": 23,
      "outputs": [
        {
          "output_type": "display_data",
          "data": {
            "text/plain": [
              "<Figure size 1000x600 with 1 Axes>"
            ],
            "image/png": "[encoded data removed]"
          },
          "metadata": {}
        }
      ]
    },
    {
      "cell_type": "code",
      "source": [
        "\n",
        "\n",
        "plt.plot(range(1, iterations + 1), cost_history, color='blue')\n",
        "plt.rcParams[\"figure.figsize\"] = (10, 6)\n",
        "plt.grid(True)\n",
        "\n",
        "plt.xlabel('Number of iterations')\n",
        "plt.ylabel('Cost (J)')\n",
        "plt.title('Convergence of gradient descent')\n",
        "\n",
        "# Show the plot\n",
        "plt.show()"
      ],
      "metadata": {
        "colab": {
          "base_uri": "https://localhost:8080/",
          "height": 564
        },
        "outputId": "62e77651-a855-4e4a-91a4-e6da5290c459",
        "id": "yPU-by9bG5_Q"
      },
      "execution_count": 24,
      "outputs": [
        {
          "output_type": "display_data",
          "data": {
            "text/plain": [
              "<Figure size 1000x600 with 1 Axes>"
            ],
            "image/png": "[encoded data removed]"
          },
          "metadata": {}
        }
      ]
    },
    {
      "cell_type": "markdown",
      "source": [
        "3. The Explanatory variable that best fits the output is X1 as the calculated cost converges at .99  where as X2 and X3 converge around 3.5-3.6. Since the purpose of the regression model is to minimize cost.\n",
        "4. Learning rates don't have much of an impact on the final cost value as the convergence of gradient decent will eventually reach the same value, unless caught in a local minimum. Learning rate does affect how many iterations it takes to reach the convergence point. With a higher learning rate the faster the algorithm will reach the convergence point.\n"
      ],
      "metadata": {
        "id": "ee8lxSRwHPUv"
      }
    },
    {
      "cell_type": "markdown",
      "source": [
        "Part 2"
      ],
      "metadata": {
        "id": "Ubx-bzsRLXhU"
      }
    },
    {
      "cell_type": "code",
      "source": [
        "from IPython.display import display\n",
        "display(df)"
      ],
      "metadata": {
        "colab": {
          "base_uri": "https://localhost:8080/",
          "height": 423
        },
        "outputId": "1cf45d5f-e4dd-4841-b9f1-0b1d79292c06",
        "id": "YgQdqIBVTggP"
      },
      "execution_count": null,
      "outputs": [
        {
          "output_type": "display_data",
          "data": {
            "text/plain": [
              "          X1        X2        X3         Y\n",
              "0   0.000000  3.440000  0.440000  4.387545\n",
              "1   0.040404  0.134949  0.888485  2.679650\n",
              "2   0.080808  0.829899  1.336970  2.968490\n",
              "3   0.121212  1.524848  1.785455  3.254065\n",
              "4   0.161616  2.219798  2.233939  3.536375\n",
              "..       ...       ...       ...       ...\n",
              "95  3.838384  1.460202  3.046061 -4.440595\n",
              "96  3.878788  2.155152  3.494545 -4.458663\n",
              "97  3.919192  2.850101  3.943030 -4.479995\n",
              "98  3.959596  3.545051  0.391515 -3.304593\n",
              "99  4.000000  0.240000  0.840000 -5.332455\n",
              "\n",
              "[100 rows x 4 columns]"
            ],
            "text/html": [
              "\n",
              "  <div id=\"df-a469c42b-2b13-422f-b3d3-2263a644766f\" class=\"colab-df-container\">\n",
              "    <div>\n",
              "<style scoped>\n",
              "    .dataframe tbody tr th:only-of-type {\n",
              "        vertical-align: middle;\n",
              "    }\n",
              "\n",
              "    .dataframe tbody tr th {\n",
              "        vertical-align: top;\n",
              "    }\n",
              "\n",
              "    .dataframe thead th {\n",
              "        text-align: right;\n",
              "    }\n",
              "</style>\n",
              "<table border=\"1\" class=\"dataframe\">\n",
              "  <thead>\n",
              "    <tr style=\"text-align: right;\">\n",
              "      <th></th>\n",
              "      <th>X1</th>\n",
              "      <th>X2</th>\n",
              "      <th>X3</th>\n",
              "      <th>Y</th>\n",
              "    </tr>\n",
              "  </thead>\n",
              "  <tbody>\n",
              "    <tr>\n",
              "      <th>0</th>\n",
              "      <td>0.000000</td>\n",
              "      <td>3.440000</td>\n",
              "      <td>0.440000</td>\n",
              "      <td>4.387545</td>\n",
              "    </tr>\n",
              "    <tr>\n",
              "      <th>1</th>\n",
              "      <td>0.040404</td>\n",
              "      <td>0.134949</td>\n",
              "      <td>0.888485</td>\n",
              "      <td>2.679650</td>\n",
              "    </tr>\n",
              "    <tr>\n",
              "      <th>2</th>\n",
              "      <td>0.080808</td>\n",
              "      <td>0.829899</td>\n",
              "      <td>1.336970</td>\n",
              "      <td>2.968490</td>\n",
              "    </tr>\n",
              "    <tr>\n",
              "      <th>3</th>\n",
              "      <td>0.121212</td>\n",
              "      <td>1.524848</td>\n",
              "      <td>1.785455</td>\n",
              "      <td>3.254065</td>\n",
              "    </tr>\n",
              "    <tr>\n",
              "      <th>4</th>\n",
              "      <td>0.161616</td>\n",
              "      <td>2.219798</td>\n",
              "      <td>2.233939</td>\n",
              "      <td>3.536375</td>\n",
              "    </tr>\n",
              "    <tr>\n",
              "      <th>...</th>\n",
              "      <td>...</td>\n",
              "      <td>...</td>\n",
              "      <td>...</td>\n",
              "      <td>...</td>\n",
              "    </tr>\n",
              "    <tr>\n",
              "      <th>95</th>\n",
              "      <td>3.838384</td>\n",
              "      <td>1.460202</td>\n",
              "      <td>3.046061</td>\n",
              "      <td>-4.440595</td>\n",
              "    </tr>\n",
              "    <tr>\n",
              "      <th>96</th>\n",
              "      <td>3.878788</td>\n",
              "      <td>2.155152</td>\n",
              "      <td>3.494545</td>\n",
              "      <td>-4.458663</td>\n",
              "    </tr>\n",
              "    <tr>\n",
              "      <th>97</th>\n",
              "      <td>3.919192</td>\n",
              "      <td>2.850101</td>\n",
              "      <td>3.943030</td>\n",
              "      <td>-4.479995</td>\n",
              "    </tr>\n",
              "    <tr>\n",
              "      <th>98</th>\n",
              "      <td>3.959596</td>\n",
              "      <td>3.545051</td>\n",
              "      <td>0.391515</td>\n",
              "      <td>-3.304593</td>\n",
              "    </tr>\n",
              "    <tr>\n",
              "      <th>99</th>\n",
              "      <td>4.000000</td>\n",
              "      <td>0.240000</td>\n",
              "      <td>0.840000</td>\n",
              "      <td>-5.332455</td>\n",
              "    </tr>\n",
              "  </tbody>\n",
              "</table>\n",
              "<p>100 rows × 4 columns</p>\n",
              "</div>\n",
              "    <div class=\"colab-df-buttons\">\n",
              "\n",
              "  <div class=\"colab-df-container\">\n",
              "    <button class=\"colab-df-convert\" onclick=\"convertToInteractive('df-a469c42b-2b13-422f-b3d3-2263a644766f')\"\n",
              "            title=\"Convert this dataframe to an interactive table.\"\n",
              "            style=\"display:none;\">\n",
              "\n",
              "  <svg xmlns=\"http://www.w3.org/2000/svg\" height=\"24px\" viewBox=\"0 -960 960 960\">\n",
              "    <path d=\"M120-120v-720h720v720H120Zm60-500h600v-160H180v160Zm220 220h160v-160H400v160Zm0 220h160v-160H400v160ZM180-400h160v-160H180v160Zm440 0h160v-160H620v160ZM180-180h160v-160H180v160Zm440 0h160v-160H620v160Z\"/>\n",
              "  </svg>\n",
              "    </button>\n",
              "\n",
              "  <style>\n",
              "    .colab-df-container {\n",
              "      display:flex;\n",
              "      gap: 12px;\n",
              "    }\n",
              "\n",
              "    .colab-df-convert {\n",
              "      background-color: #E8F0FE;\n",
              "      border: none;\n",
              "      border-radius: 50%;\n",
              "      cursor: pointer;\n",
              "      display: none;\n",
              "      fill: #1967D2;\n",
              "      height: 32px;\n",
              "      padding: 0 0 0 0;\n",
              "      width: 32px;\n",
              "    }\n",
              "\n",
              "    .colab-df-convert:hover {\n",
              "      background-color: #E2EBFA;\n",
              "      box-shadow: 0px 1px 2px rgba(60, 64, 67, 0.3), 0px 1px 3px 1px rgba(60, 64, 67, 0.15);\n",
              "      fill: #174EA6;\n",
              "    }\n",
              "\n",
              "    .colab-df-buttons div {\n",
              "      margin-bottom: 4px;\n",
              "    }\n",
              "\n",
              "    [theme=dark] .colab-df-convert {\n",
              "      background-color: #3B4455;\n",
              "      fill: #D2E3FC;\n",
              "    }\n",
              "\n",
              "    [theme=dark] .colab-df-convert:hover {\n",
              "      background-color: #434B5C;\n",
              "      box-shadow: 0px 1px 3px 1px rgba(0, 0, 0, 0.15);\n",
              "      filter: drop-shadow(0px 1px 2px rgba(0, 0, 0, 0.3));\n",
              "      fill: #FFFFFF;\n",
              "    }\n",
              "  </style>\n",
              "\n",
              "    <script>\n",
              "      const buttonEl =\n",
              "        document.querySelector('#df-a469c42b-2b13-422f-b3d3-2263a644766f button.colab-df-convert');\n",
              "      buttonEl.style.display =\n",
              "        google.colab.kernel.accessAllowed ? 'block' : 'none';\n",
              "\n",
              "      async function convertToInteractive(key) {\n",
              "        const element = document.querySelector('#df-a469c42b-2b13-422f-b3d3-2263a644766f');\n",
              "        const dataTable =\n",
              "          await google.colab.kernel.invokeFunction('convertToInteractive',\n",
              "                                                    [key], {});\n",
              "        if (!dataTable) return;\n",
              "\n",
              "        const docLinkHtml = 'Like what you see? Visit the ' +\n",
              "          '<a target=\"_blank\" href=https://colab.research.google.com/notebooks/data_table.ipynb>data table notebook</a>'\n",
              "          + ' to learn more about interactive tables.';\n",
              "        element.innerHTML = '';\n",
              "        dataTable['output_type'] = 'display_data';\n",
              "        await google.colab.output.renderOutput(dataTable, element);\n",
              "        const docLink = document.createElement('div');\n",
              "        docLink.innerHTML = docLinkHtml;\n",
              "        element.appendChild(docLink);\n",
              "      }\n",
              "    </script>\n",
              "  </div>\n",
              "\n",
              "\n",
              "    <div id=\"df-b62c89c5-8ac9-47df-b265-256127ebe963\">\n",
              "      <button class=\"colab-df-quickchart\" onclick=\"quickchart('df-b62c89c5-8ac9-47df-b265-256127ebe963')\"\n",
              "                title=\"Suggest charts\"\n",
              "                style=\"display:none;\">\n",
              "\n",
              "<svg xmlns=\"http://www.w3.org/2000/svg\" height=\"24px\"viewBox=\"0 0 24 24\"\n",
              "     width=\"24px\">\n",
              "    <g>\n",
              "        <path d=\"M19 3H5c-1.1 0-2 .9-2 2v14c0 1.1.9 2 2 2h14c1.1 0 2-.9 2-2V5c0-1.1-.9-2-2-2zM9 17H7v-7h2v7zm4 0h-2V7h2v10zm4 0h-2v-4h2v4z\"/>\n",
              "    </g>\n",
              "</svg>\n",
              "      </button>\n",
              "\n",
              "<style>\n",
              "  .colab-df-quickchart {\n",
              "      --bg-color: #E8F0FE;\n",
              "      --fill-color: #1967D2;\n",
              "      --hover-bg-color: #E2EBFA;\n",
              "      --hover-fill-color: #174EA6;\n",
              "      --disabled-fill-color: #AAA;\n",
              "      --disabled-bg-color: #DDD;\n",
              "  }\n",
              "\n",
              "  [theme=dark] .colab-df-quickchart {\n",
              "      --bg-color: #3B4455;\n",
              "      --fill-color: #D2E3FC;\n",
              "      --hover-bg-color: #434B5C;\n",
              "      --hover-fill-color: #FFFFFF;\n",
              "      --disabled-bg-color: #3B4455;\n",
              "      --disabled-fill-color: #666;\n",
              "  }\n",
              "\n",
              "  .colab-df-quickchart {\n",
              "    background-color: var(--bg-color);\n",
              "    border: none;\n",
              "    border-radius: 50%;\n",
              "    cursor: pointer;\n",
              "    display: none;\n",
              "    fill: var(--fill-color);\n",
              "    height: 32px;\n",
              "    padding: 0;\n",
              "    width: 32px;\n",
              "  }\n",
              "\n",
              "  .colab-df-quickchart:hover {\n",
              "    background-color: var(--hover-bg-color);\n",
              "    box-shadow: 0 1px 2px rgba(60, 64, 67, 0.3), 0 1px 3px 1px rgba(60, 64, 67, 0.15);\n",
              "    fill: var(--button-hover-fill-color);\n",
              "  }\n",
              "\n",
              "  .colab-df-quickchart-complete:disabled,\n",
              "  .colab-df-quickchart-complete:disabled:hover {\n",
              "    background-color: var(--disabled-bg-color);\n",
              "    fill: var(--disabled-fill-color);\n",
              "    box-shadow: none;\n",
              "  }\n",
              "\n",
              "  .colab-df-spinner {\n",
              "    border: 2px solid var(--fill-color);\n",
              "    border-color: transparent;\n",
              "    border-bottom-color: var(--fill-color);\n",
              "    animation:\n",
              "      spin 1s steps(1) infinite;\n",
              "  }\n",
              "\n",
              "  @keyframes spin {\n",
              "    0% {\n",
              "      border-color: transparent;\n",
              "      border-bottom-color: var(--fill-color);\n",
              "      border-left-color: var(--fill-color);\n",
              "    }\n",
              "    20% {\n",
              "      border-color: transparent;\n",
              "      border-left-color: var(--fill-color);\n",
              "      border-top-color: var(--fill-color);\n",
              "    }\n",
              "    30% {\n",
              "      border-color: transparent;\n",
              "      border-left-color: var(--fill-color);\n",
              "      border-top-color: var(--fill-color);\n",
              "      border-right-color: var(--fill-color);\n",
              "    }\n",
              "    40% {\n",
              "      border-color: transparent;\n",
              "      border-right-color: var(--fill-color);\n",
              "      border-top-color: var(--fill-color);\n",
              "    }\n",
              "    60% {\n",
              "      border-color: transparent;\n",
              "      border-right-color: var(--fill-color);\n",
              "    }\n",
              "    80% {\n",
              "      border-color: transparent;\n",
              "      border-right-color: var(--fill-color);\n",
              "      border-bottom-color: var(--fill-color);\n",
              "    }\n",
              "    90% {\n",
              "      border-color: transparent;\n",
              "      border-bottom-color: var(--fill-color);\n",
              "    }\n",
              "  }\n",
              "</style>\n",
              "\n",
              "      <script>\n",
              "        async function quickchart(key) {\n",
              "          const quickchartButtonEl =\n",
              "            document.querySelector('#' + key + ' button');\n",
              "          quickchartButtonEl.disabled = true;  // To prevent multiple clicks.\n",
              "          quickchartButtonEl.classList.add('colab-df-spinner');\n",
              "          try {\n",
              "            const charts = await google.colab.kernel.invokeFunction(\n",
              "                'suggestCharts', [key], {});\n",
              "          } catch (error) {\n",
              "            console.error('Error during call to suggestCharts:', error);\n",
              "          }\n",
              "          quickchartButtonEl.classList.remove('colab-df-spinner');\n",
              "          quickchartButtonEl.classList.add('colab-df-quickchart-complete');\n",
              "        }\n",
              "        (() => {\n",
              "          let quickchartButtonEl =\n",
              "            document.querySelector('#df-b62c89c5-8ac9-47df-b265-256127ebe963 button');\n",
              "          quickchartButtonEl.style.display =\n",
              "            google.colab.kernel.accessAllowed ? 'block' : 'none';\n",
              "        })();\n",
              "      </script>\n",
              "    </div>\n",
              "\n",
              "  <div id=\"id_48bbfcce-b83d-4859-b662-6d4c60b92ec9\">\n",
              "    <style>\n",
              "      .colab-df-generate {\n",
              "        background-color: #E8F0FE;\n",
              "        border: none;\n",
              "        border-radius: 50%;\n",
              "        cursor: pointer;\n",
              "        display: none;\n",
              "        fill: #1967D2;\n",
              "        height: 32px;\n",
              "        padding: 0 0 0 0;\n",
              "        width: 32px;\n",
              "      }\n",
              "\n",
              "      .colab-df-generate:hover {\n",
              "        background-color: #E2EBFA;\n",
              "        box-shadow: 0px 1px 2px rgba(60, 64, 67, 0.3), 0px 1px 3px 1px rgba(60, 64, 67, 0.15);\n",
              "        fill: #174EA6;\n",
              "      }\n",
              "\n",
              "      [theme=dark] .colab-df-generate {\n",
              "        background-color: #3B4455;\n",
              "        fill: #D2E3FC;\n",
              "      }\n",
              "\n",
              "      [theme=dark] .colab-df-generate:hover {\n",
              "        background-color: #434B5C;\n",
              "        box-shadow: 0px 1px 3px 1px rgba(0, 0, 0, 0.15);\n",
              "        filter: drop-shadow(0px 1px 2px rgba(0, 0, 0, 0.3));\n",
              "        fill: #FFFFFF;\n",
              "      }\n",
              "    </style>\n",
              "    <button class=\"colab-df-generate\" onclick=\"generateWithVariable('df')\"\n",
              "            title=\"Generate code using this dataframe.\"\n",
              "            style=\"display:none;\">\n",
              "\n",
              "  <svg xmlns=\"http://www.w3.org/2000/svg\" height=\"24px\"viewBox=\"0 0 24 24\"\n",
              "       width=\"24px\">\n",
              "    <path d=\"M7,19H8.4L18.45,9,17,7.55,7,17.6ZM5,21V16.75L18.45,3.32a2,2,0,0,1,2.83,0l1.4,1.43a1.91,1.91,0,0,1,.58,1.4,1.91,1.91,0,0,1-.58,1.4L9.25,21ZM18.45,9,17,7.55Zm-12,3A5.31,5.31,0,0,0,4.9,8.1,5.31,5.31,0,0,0,1,6.5,5.31,5.31,0,0,0,4.9,4.9,5.31,5.31,0,0,0,6.5,1,5.31,5.31,0,0,0,8.1,4.9,5.31,5.31,0,0,0,12,6.5,5.46,5.46,0,0,0,6.5,12Z\"/>\n",
              "  </svg>\n",
              "    </button>\n",
              "    <script>\n",
              "      (() => {\n",
              "      const buttonEl =\n",
              "        document.querySelector('#id_48bbfcce-b83d-4859-b662-6d4c60b92ec9 button.colab-df-generate');\n",
              "      buttonEl.style.display =\n",
              "        google.colab.kernel.accessAllowed ? 'block' : 'none';\n",
              "\n",
              "      buttonEl.onclick = () => {\n",
              "        google.colab.notebook.generateWithVariable('df');\n",
              "      }\n",
              "      })();\n",
              "    </script>\n",
              "  </div>\n",
              "\n",
              "    </div>\n",
              "  </div>\n"
            ],
            "application/vnd.google.colaboratory.intrinsic+json": {
              "type": "dataframe",
              "variable_name": "df",
              "summary": "{\n  \"name\": \"df\",\n  \"rows\": 100,\n  \"fields\": [\n    {\n      \"column\": \"X1\",\n      \"properties\": {\n        \"dtype\": \"number\",\n        \"std\": 1.1721814939918593,\n        \"min\": 0.0,\n        \"max\": 4.0,\n        \"num_unique_values\": 100,\n        \"samples\": [\n          3.353535354,\n          2.141414141,\n          2.828282828\n        ],\n        \"semantic_type\": \"\",\n        \"description\": \"\"\n      }\n    },\n    {\n      \"column\": \"X2\",\n      \"properties\": {\n        \"dtype\": \"number\",\n        \"std\": 1.1721536398366212,\n        \"min\": 0.07030303,\n        \"max\": 3.949090909,\n        \"num_unique_values\": 100,\n        \"samples\": [\n          1.120808081,\n          0.272323232,\n          0.086464646\n        ],\n        \"semantic_type\": \"\",\n        \"description\": \"\"\n      }\n    },\n    {\n      \"column\": \"X3\",\n      \"properties\": {\n        \"dtype\": \"number\",\n        \"std\": 1.163004879154481,\n        \"min\": 0.027878788,\n        \"max\": 3.943030303,\n        \"num_unique_values\": 100,\n        \"samples\": [\n          1.664242424,\n          0.20969697,\n          3.833939394\n        ],\n        \"semantic_type\": \"\",\n        \"description\": \"\"\n      }\n    },\n    {\n      \"column\": \"Y\",\n      \"properties\": {\n        \"dtype\": \"number\",\n        \"std\": 2.77464264389285,\n        \"min\": -5.332454989,\n        \"max\": 5.545892118,\n        \"num_unique_values\": 100,\n        \"samples\": [\n          -1.678452336,\n          2.569971294,\n          -0.650022584\n        ],\n        \"semantic_type\": \"\",\n        \"description\": \"\"\n      }\n    }\n  ]\n}"
            }
          },
          "metadata": {}
        }
      ]
    },
    {
      "cell_type": "code",
      "metadata": {
        "colab": {
          "base_uri": "https://localhost:8080/"
        },
        "id": "6bd42071",
        "outputId": "3f39d657-230b-4ef4-f41f-d5dc2ac1702e"
      },
      "source": [
        "url = 'https://raw.githubusercontent.com/HamedTabkhi/Intro-to-ML/main/Dataset/D3.csv'\n",
        "df = pd.read_csv(url)\n",
        "\n",
        "X = df[['X1', 'X2', 'X3']].values\n",
        "y = df['Y'].values\n",
        "\n",
        "print('X:', X)\n",
        "print('y:', y)"
      ],
      "execution_count": 85,
      "outputs": [
        {
          "output_type": "stream",
          "name": "stdout",
          "text": [
            "X: [[0.         3.44       0.44      ]\n",
            " [0.04040404 0.1349495  0.88848485]\n",
            " [0.08080808 0.82989899 1.3369697 ]\n",
            " [0.12121212 1.52484848 1.78545454]\n",
            " [0.16161616 2.21979798 2.23393939]\n",
            " [0.2020202  2.91474747 2.68242424]\n",
            " [0.24242424 3.60969697 3.13090909]\n",
            " [0.28282828 0.30464646 3.57939394]\n",
            " [0.32323232 0.99959596 0.02787879]\n",
            " [0.36363636 1.69454546 0.47636364]\n",
            " [0.4040404  2.38949495 0.92484849]\n",
            " [0.44444444 3.08444444 1.37333333]\n",
            " [0.48484848 3.77939394 1.82181818]\n",
            " [0.52525252 0.47434343 2.27030303]\n",
            " [0.56565657 1.16929293 2.71878788]\n",
            " [0.60606061 1.86424242 3.16727273]\n",
            " [0.64646465 2.55919192 3.61575758]\n",
            " [0.68686869 3.25414141 0.06424242]\n",
            " [0.72727273 3.94909091 0.51272727]\n",
            " [0.76767677 0.6440404  0.96121212]\n",
            " [0.80808081 1.3389899  1.40969697]\n",
            " [0.84848485 2.03393939 1.85818182]\n",
            " [0.88888889 2.72888889 2.30666667]\n",
            " [0.92929293 3.42383838 2.75515152]\n",
            " [0.96969697 0.11878788 3.20363636]\n",
            " [1.01010101 0.81373737 3.65212121]\n",
            " [1.05050505 1.50868687 0.10060606]\n",
            " [1.09090909 2.20363636 0.54909091]\n",
            " [1.13131313 2.89858586 0.99757576]\n",
            " [1.17171717 3.59353535 1.44606061]\n",
            " [1.21212121 0.28848485 1.89454546]\n",
            " [1.25252525 0.98343434 2.3430303 ]\n",
            " [1.29292929 1.67838384 2.79151515]\n",
            " [1.33333333 2.37333333 3.24      ]\n",
            " [1.37373737 3.06828283 3.68848485]\n",
            " [1.41414141 3.76323232 0.1369697 ]\n",
            " [1.45454546 0.45818182 0.58545455]\n",
            " [1.49494949 1.15313131 1.03393939]\n",
            " [1.53535354 1.84808081 1.48242424]\n",
            " [1.57575758 2.5430303  1.93090909]\n",
            " [1.61616162 3.2379798  2.37939394]\n",
            " [1.65656566 3.93292929 2.82787879]\n",
            " [1.6969697  0.62787879 3.27636364]\n",
            " [1.73737374 1.32282828 3.72484848]\n",
            " [1.77777778 2.01777778 0.17333333]\n",
            " [1.81818182 2.71272727 0.62181818]\n",
            " [1.85858586 3.40767677 1.07030303]\n",
            " [1.8989899  0.10262626 1.51878788]\n",
            " [1.93939394 0.79757576 1.96727273]\n",
            " [1.97979798 1.49252525 2.41575758]\n",
            " [2.02020202 2.18747475 2.86424242]\n",
            " [2.06060606 2.88242424 3.31272727]\n",
            " [2.1010101  3.57737374 3.76121212]\n",
            " [2.14141414 0.27232323 0.20969697]\n",
            " [2.18181818 0.96727273 0.65818182]\n",
            " [2.22222222 1.66222222 1.10666667]\n",
            " [2.26262626 2.35717172 1.55515151]\n",
            " [2.3030303  3.05212121 2.00363636]\n",
            " [2.34343434 3.74707071 2.45212121]\n",
            " [2.38383838 0.4420202  2.90060606]\n",
            " [2.42424242 1.1369697  3.34909091]\n",
            " [2.46464646 1.83191919 3.79757576]\n",
            " [2.5050505  2.52686869 0.24606061]\n",
            " [2.54545455 3.22181818 0.69454545]\n",
            " [2.58585859 3.91676768 1.1430303 ]\n",
            " [2.62626263 0.61171717 1.59151515]\n",
            " [2.66666667 1.30666667 2.04      ]\n",
            " [2.70707071 2.00161616 2.48848485]\n",
            " [2.74747475 2.69656566 2.9369697 ]\n",
            " [2.78787879 3.39151515 3.38545454]\n",
            " [2.82828283 0.08646465 3.83393939]\n",
            " [2.86868687 0.78141414 0.28242424]\n",
            " [2.90909091 1.47636364 0.73090909]\n",
            " [2.94949495 2.17131313 1.17939394]\n",
            " [2.98989899 2.86626263 1.62787879]\n",
            " [3.03030303 3.56121212 2.07636364]\n",
            " [3.07070707 0.25616162 2.52484849]\n",
            " [3.11111111 0.95111111 2.97333333]\n",
            " [3.15151515 1.64606061 3.42181818]\n",
            " [3.19191919 2.3410101  3.87030303]\n",
            " [3.23232323 3.0359596  0.31878788]\n",
            " [3.27272727 3.73090909 0.76727273]\n",
            " [3.31313131 0.42585859 1.21575758]\n",
            " [3.35353535 1.12080808 1.66424242]\n",
            " [3.39393939 1.81575758 2.11272727]\n",
            " [3.43434343 2.51070707 2.56121212]\n",
            " [3.47474748 3.20565657 3.00969697]\n",
            " [3.51515151 3.90060606 3.45818182]\n",
            " [3.55555556 0.59555556 3.90666667]\n",
            " [3.5959596  1.29050505 0.35515151]\n",
            " [3.63636364 1.98545455 0.80363636]\n",
            " [3.67676768 2.68040404 1.25212121]\n",
            " [3.71717172 3.37535353 1.70060606]\n",
            " [3.75757576 0.07030303 2.14909091]\n",
            " [3.7979798  0.76525252 2.59757576]\n",
            " [3.83838384 1.46020202 3.04606061]\n",
            " [3.87878788 2.15515152 3.49454545]\n",
            " [3.91919192 2.85010101 3.9430303 ]\n",
            " [3.95959596 3.5450505  0.39151515]\n",
            " [4.         0.24       0.84      ]]\n",
            "y: [ 4.38754501  2.6796499   2.96848981  3.25406475  3.53637472  3.81541972\n",
            "  4.09119974  2.36371479  3.83296487  4.09894997  4.3616701   4.62112526\n",
            "  4.87731544  3.13024065  3.37990089  3.62629616  3.86942645  5.30929177\n",
            "  5.54589212  3.77922749  4.00929789  4.23610332  4.45964378  4.67991926\n",
            "  2.89692977  3.1106753   4.52115587  4.72837146  4.93232208  5.13300772\n",
            "  3.33042839  3.52458409  3.71547481  3.90310057  4.08746135  5.46855715\n",
            "  3.64638799  3.82095385  3.99225473  4.16029065  4.32506159  4.48656756\n",
            "  2.64480856  2.79978458  4.15149563  4.29994171  4.44512281  2.58703894\n",
            "  2.7256901   2.86107628  2.99319749  3.12205374  3.247645    2.56997129\n",
            "  2.68903261  2.80482896  2.91736034  3.02662674  3.13262817  1.23536462\n",
            "  1.3348361   1.43104261  2.72398415  2.81366071  2.9000723   0.98321892\n",
            "  1.06310057  1.13971724  1.21306894  1.28315566 -0.65002258  0.6135342\n",
            "  0.673826    0.73085284  0.7846147   0.83511159 -1.1176565  -1.07368956\n",
            " -1.03298759 -0.99555059  0.23862143  0.26952848 -1.70282944 -1.67845234\n",
            " -1.6573402  -1.63949305 -1.62491086 -1.61359365 -3.60554141 -2.40075414\n",
            " -2.39923185 -2.40097453 -2.40598218 -4.4142548  -4.4257924  -4.44059497\n",
            " -4.45866252 -4.47999504 -3.30459253 -5.33245499]\n"
          ]
        }
      ]
    },
    {
      "cell_type": "code",
      "metadata": {
        "colab": {
          "base_uri": "https://localhost:8080/",
          "height": 104
        },
        "id": "9b8319f3",
        "outputId": "b7c8e60c-892d-4bd2-e7b2-70e040cdc14e"
      },
      "source": [
        "X_0 = np.ones((m, 1))\n",
        "X_multi = np.hstack((X_0, X))\n",
        "display(X_multi[:5])"
      ],
      "execution_count": 86,
      "outputs": [
        {
          "output_type": "display_data",
          "data": {
            "text/plain": [
              "array([[1.        , 0.        , 3.44      , 0.44      ],\n",
              "       [1.        , 0.04040404, 0.1349495 , 0.88848485],\n",
              "       [1.        , 0.08080808, 0.82989899, 1.3369697 ],\n",
              "       [1.        , 0.12121212, 1.52484848, 1.78545454],\n",
              "       [1.        , 0.16161616, 2.21979798, 2.23393939]])"
            ]
          },
          "metadata": {}
        }
      ]
    },
    {
      "cell_type": "code",
      "metadata": {
        "id": "63cc5d27"
      },
      "source": [
        "def compute_cost_multi(X_multi, y, theta):\n",
        "    \"\"\"\n",
        "    Compute cost for linear regression with multiple features.\n",
        "\n",
        "    Parameters:\n",
        "    X_multi : 2D array where each row represents the training example and each column represent the feature\n",
        "        m = number of training examples\n",
        "        n = number of features (including X_0 column of ones)\n",
        "    y : 1D array of labels/target values for each training example. dimension(m)\n",
        "    theta : 1D array of fitting parameters or weights. Dimension (n)\n",
        "\n",
        "    Returns:\n",
        "    J : Scalar value, the cost\n",
        "    \"\"\"\n",
        "    predictions = X_multi.dot(theta)\n",
        "    errors = np.subtract(predictions, y)\n",
        "    sqrErrors = np.square(errors)\n",
        "    J = 1 / (2 * m) * np.sum(sqrErrors)\n",
        "    return J\n",
        "\n",
        "def gradient_descent_multi(X_multi, y, theta, alpha, iterations):\n",
        "    \"\"\"\n",
        "    Compute the optimal parameters using gradient descent for linear regression with multiple features.\n",
        "\n",
        "    Parameters:\n",
        "    X_multi : 2D array where each row represents the training example and each column represents the feature\n",
        "        m = number of training examples\n",
        "        n = number of features (including X_0 column of ones)\n",
        "    y : 1D array of labels/target values for each training example. dimension(m)\n",
        "    theta : 1D array of fitting parameters or weights. Dimension (n)\n",
        "    alpha : Learning rate (scalar)\n",
        "    iterations : Number of iterations (scalar)\n",
        "\n",
        "    Returns:\n",
        "    theta : Updated values of fitting parameters or weights after 'iterations' iterations. Dimension (n)\n",
        "    cost_history : Array containing the cost for each iteration. Dimension (iterations)\n",
        "    \"\"\"\n",
        "\n",
        "    m = len(y)  # Number of training examples\n",
        "    cost_history = np.zeros(iterations)\n",
        "\n",
        "    for i in range(iterations):\n",
        "        predictions = X_multi.dot(theta)\n",
        "        errors = np.subtract(predictions, y)\n",
        "        sum_delta = (alpha / m) * X_multi.transpose().dot(errors)\n",
        "        theta -= sum_delta\n",
        "        cost_history[i] = compute_cost_multi(X_multi, y, theta)\n",
        "\n",
        "    return theta, cost_history"
      ],
      "execution_count": 87,
      "outputs": []
    },
    {
      "cell_type": "code",
      "metadata": {
        "colab": {
          "base_uri": "https://localhost:8080/"
        },
        "id": "dfab24c9",
        "outputId": "05337091-bca9-477f-c1b9-0ce0b6a00308"
      },
      "source": [
        "# Initialize theta parameters with zeros. The size is the number of features in X_multi (including the bias term).\n",
        "theta = np.zeros(4)\n",
        "\n",
        "# Define the number of iterations and the learning rate.\n",
        "iterations = 1000\n",
        "alpha = 0.05\n",
        "\n",
        "# Run the gradient descent algorithm.\n",
        "theta_optimal_multi, cost_history_multi = gradient_descent_multi(X_multi, y, theta, alpha, iterations)\n",
        "\n",
        "# Print the final optimal theta values.\n",
        "print('Optimal theta values:', theta_optimal_multi)"
      ],
      "execution_count": 90,
      "outputs": [
        {
          "output_type": "stream",
          "name": "stdout",
          "text": [
            "Optimal theta values: [ 5.27907019 -1.99876124  0.53836289 -0.26045736]\n"
          ]
        }
      ]
    },
    {
      "cell_type": "code",
      "metadata": {
        "colab": {
          "base_uri": "https://localhost:8080/",
          "height": 668
        },
        "id": "1c933007",
        "outputId": "8ae0845b-2495-4c01-ba1a-beaac235d62c"
      },
      "source": [
        "print('Final optimal theta values for multiple linear regression:', theta_optimal_multi)\n",
        "print('Final cost for multiple linear regression:', cost_history_multi[-1])\n",
        "\n",
        "plt.plot(range(1, iterations + 1), cost_history_multi, color='blue')\n",
        "plt.rcParams[\"figure.figsize\"] = (10, 6)\n",
        "plt.grid(True)\n",
        "plt.xlabel('Number of Iterations')\n",
        "plt.ylabel('Cost (J)')\n",
        "plt.title('Convergence of Gradient Descent for Multiple Linear Regression')\n",
        "plt.show()\n",
        "\n",
        "print(\"Analysis of model performance:\")\n",
        "print(f\"The final cost value is approximately {cost_history_multi[-1]:.4f}.\")\n",
        "if cost_history_multi[-1] < 1:\n",
        "    print(\"This low cost suggests the model has fitted the data well.\")\n",
        "else:\n",
        "    print(\"The final cost value indicates there is still significant error in the model's predictions.\")\n",
        "\n",
        "if np.diff(cost_history_multi)[-1] < 1e-6 and np.diff(cost_history_multi)[-1] > -1e-6:\n",
        "    print(\"The cost history plot shows that the cost has stabilized, indicating that the gradient descent has likely converged.\")\n",
        "else:\n",
        "    print(\"The cost history plot shows that the cost is still decreasing, indicating that the gradient descent may not have fully converged.\")\n"
      ],
      "execution_count": 91,
      "outputs": [
        {
          "output_type": "stream",
          "name": "stdout",
          "text": [
            "Final optimal theta values for multiple linear regression: [ 5.27907019 -1.99876124  0.53836289 -0.26045736]\n",
            "Final cost for multiple linear regression: 0.7385298570293829\n"
          ]
        },
        {
          "output_type": "display_data",
          "data": {
            "text/plain": [
              "<Figure size 1000x600 with 1 Axes>"
            ],
            "image/png": "[encoded data removed]"
          },
          "metadata": {}
        },
        {
          "output_type": "stream",
          "name": "stdout",
          "text": [
            "Analysis of model performance:\n",
            "The final cost value is approximately 0.7385.\n",
            "This low cost suggests the model has fitted the data well.\n",
            "The cost history plot shows that the cost has stabilized, indicating that the gradient descent has likely converged.\n"
          ]
        }
      ]
    },
    {
      "cell_type": "code",
      "metadata": {
        "colab": {
          "base_uri": "https://localhost:8080/"
        },
        "id": "68b0ca0f",
        "outputId": "27f965ec-7b0a-4dd5-84ac-966dd7fcc00a"
      },
      "source": [
        "# Define new data points for prediction\n",
        "new_data = np.array([[1, 1, 1], [2, 0, 4], [3, 2, 1]])\n",
        "\n",
        "# Add a column of ones for the bias term. The X_multi in the previous step already includes the bias term.\n",
        "# So we need to add a column of ones to the new_data as well to match the structure of X_multi.\n",
        "new_data_with_bias = np.hstack((np.ones((new_data.shape[0], 1)), new_data))\n",
        "\n",
        "\n",
        "# Calculate predictions using the optimal theta values\n",
        "predictions_multi = new_data_with_bias.dot(theta_optimal_multi)\n",
        "\n",
        "# Print the predictions\n",
        "print('Predictions for new data:', predictions_multi)"
      ],
      "execution_count": 81,
      "outputs": [
        {
          "output_type": "stream",
          "name": "stdout",
          "text": [
            "Predictions for new data: [ 2.94136408  0.09179843 -0.01275555]\n"
          ]
        }
      ]
    }
  ]
}