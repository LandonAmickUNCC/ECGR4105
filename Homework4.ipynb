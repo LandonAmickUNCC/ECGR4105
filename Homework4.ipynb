{
  "nbformat": 4,
  "nbformat_minor": 0,
  "metadata": {
    "colab": {
      "provenance": [],
      "authorship_tag": "ABX9TyNp7JHNH2qT3DAl5vHKzoPC",
      "include_colab_link": true
    },
    "kernelspec": {
      "name": "python3",
      "display_name": "Python 3"
    },
    "language_info": {
      "name": "python"
    }
  },
  "cells": [
    {
      "cell_type": "markdown",
      "metadata": {
        "id": "view-in-github",
        "colab_type": "text"
      },
      "source": [
        "<a href=\"https://colab.research.google.com/github/LandonAmickUNCC/ECGR4105/blob/main/Homework4.ipynb\" target=\"_parent\"><img src=\"https://colab.research.google.com/assets/colab-badge.svg\" alt=\"Open In Colab\"/></a>"
      ]
    },
    {
      "cell_type": "markdown",
      "source": [
        "*Landon* Amick 801293791 Homework 4 https://github.com/LandonAmickUNCC/ECGR4105"
      ],
      "metadata": {
        "id": "VbGVa7w9_gjs"
      }
    },
    {
      "cell_type": "code",
      "execution_count": null,
      "metadata": {
        "id": "TxG4cE0l3fag"
      },
      "outputs": [],
      "source": [
        "import numpy as np\n",
        "import pandas as pd\n",
        "import matplotlib.pyplot as plt\n",
        "from scipy import stats\n",
        "from sklearn.svm import SVC\n",
        "from sklearn.model_selection import train_test_split\n",
        "from mpl_toolkits import mplot3d\n",
        "from ipywidgets import interact, fixed\n",
        "import seaborn as sns; sns.set()\n",
        "from sklearn.metrics import classification_report"
      ]
    },
    {
      "cell_type": "markdown",
      "source": [
        "Part 1"
      ],
      "metadata": {
        "id": "Fst4Ly9nKJ4S"
      }
    },
    {
      "cell_type": "code",
      "source": [
        "from sklearn.datasets import load_breast_cancer\n",
        "from sklearn.preprocessing import StandardScaler\n",
        "import pandas as pd\n",
        "\n",
        "breast = load_breast_cancer()\n",
        "breast_data = breast.data\n",
        "\n",
        "# Normalize the data using StandardScaler\n",
        "scaler = StandardScaler()\n",
        "scaled_breast_data = scaler.fit_transform(breast_data)\n",
        "\n",
        "breast_input = pd.DataFrame(scaled_breast_data)\n",
        "breast_input.head()"
      ],
      "metadata": {
        "colab": {
          "base_uri": "https://localhost:8080/",
          "height": 255
        },
        "id": "8m7GMmluct9G",
        "outputId": "ea0636f7-2011-430b-dce5-1b0fcff9096c"
      },
      "execution_count": null,
      "outputs": [
        {
          "output_type": "execute_result",
          "data": {
            "text/plain": [
              "         0         1         2         3         4         5         6   \\\n",
              "0  1.097064 -2.073335  1.269934  0.984375  1.568466  3.283515  2.652874   \n",
              "1  1.829821 -0.353632  1.685955  1.908708 -0.826962 -0.487072 -0.023846   \n",
              "2  1.579888  0.456187  1.566503  1.558884  0.942210  1.052926  1.363478   \n",
              "3 -0.768909  0.253732 -0.592687 -0.764464  3.283553  3.402909  1.915897   \n",
              "4  1.750297 -1.151816  1.776573  1.826229  0.280372  0.539340  1.371011   \n",
              "\n",
              "         7         8         9   ...        20        21        22        23  \\\n",
              "0  2.532475  2.217515  2.255747  ...  1.886690 -1.359293  2.303601  2.001237   \n",
              "1  0.548144  0.001392 -0.868652  ...  1.805927 -0.369203  1.535126  1.890489   \n",
              "2  2.037231  0.939685 -0.398008  ...  1.511870 -0.023974  1.347475  1.456285   \n",
              "3  1.451707  2.867383  4.910919  ... -0.281464  0.133984 -0.249939 -0.550021   \n",
              "4  1.428493 -0.009560 -0.562450  ...  1.298575 -1.466770  1.338539  1.220724   \n",
              "\n",
              "         24        25        26        27        28        29  \n",
              "0  1.307686  2.616665  2.109526  2.296076  2.750622  1.937015  \n",
              "1 -0.375612 -0.430444 -0.146749  1.087084 -0.243890  0.281190  \n",
              "2  0.527407  1.082932  0.854974  1.955000  1.152255  0.201391  \n",
              "3  3.394275  3.893397  1.989588  2.175786  6.046041  4.935010  \n",
              "4  0.220556 -0.313395  0.613179  0.729259 -0.868353 -0.397100  \n",
              "\n",
              "[5 rows x 30 columns]"
            ],
            "text/html": [
              "\n",
              "  <div id=\"df-d1bfd73b-0e0a-4b16-9616-609aa600406a\" class=\"colab-df-container\">\n",
              "    <div>\n",
              "<style scoped>\n",
              "    .dataframe tbody tr th:only-of-type {\n",
              "        vertical-align: middle;\n",
              "    }\n",
              "\n",
              "    .dataframe tbody tr th {\n",
              "        vertical-align: top;\n",
              "    }\n",
              "\n",
              "    .dataframe thead th {\n",
              "        text-align: right;\n",
              "    }\n",
              "</style>\n",
              "<table border=\"1\" class=\"dataframe\">\n",
              "  <thead>\n",
              "    <tr style=\"text-align: right;\">\n",
              "      <th></th>\n",
              "      <th>0</th>\n",
              "      <th>1</th>\n",
              "      <th>2</th>\n",
              "      <th>3</th>\n",
              "      <th>4</th>\n",
              "      <th>5</th>\n",
              "      <th>6</th>\n",
              "      <th>7</th>\n",
              "      <th>8</th>\n",
              "      <th>9</th>\n",
              "      <th>...</th>\n",
              "      <th>20</th>\n",
              "      <th>21</th>\n",
              "      <th>22</th>\n",
              "      <th>23</th>\n",
              "      <th>24</th>\n",
              "      <th>25</th>\n",
              "      <th>26</th>\n",
              "      <th>27</th>\n",
              "      <th>28</th>\n",
              "      <th>29</th>\n",
              "    </tr>\n",
              "  </thead>\n",
              "  <tbody>\n",
              "    <tr>\n",
              "      <th>0</th>\n",
              "      <td>1.097064</td>\n",
              "      <td>-2.073335</td>\n",
              "      <td>1.269934</td>\n",
              "      <td>0.984375</td>\n",
              "      <td>1.568466</td>\n",
              "      <td>3.283515</td>\n",
              "      <td>2.652874</td>\n",
              "      <td>2.532475</td>\n",
              "      <td>2.217515</td>\n",
              "      <td>2.255747</td>\n",
              "      <td>...</td>\n",
              "      <td>1.886690</td>\n",
              "      <td>-1.359293</td>\n",
              "      <td>2.303601</td>\n",
              "      <td>2.001237</td>\n",
              "      <td>1.307686</td>\n",
              "      <td>2.616665</td>\n",
              "      <td>2.109526</td>\n",
              "      <td>2.296076</td>\n",
              "      <td>2.750622</td>\n",
              "      <td>1.937015</td>\n",
              "    </tr>\n",
              "    <tr>\n",
              "      <th>1</th>\n",
              "      <td>1.829821</td>\n",
              "      <td>-0.353632</td>\n",
              "      <td>1.685955</td>\n",
              "      <td>1.908708</td>\n",
              "      <td>-0.826962</td>\n",
              "      <td>-0.487072</td>\n",
              "      <td>-0.023846</td>\n",
              "      <td>0.548144</td>\n",
              "      <td>0.001392</td>\n",
              "      <td>-0.868652</td>\n",
              "      <td>...</td>\n",
              "      <td>1.805927</td>\n",
              "      <td>-0.369203</td>\n",
              "      <td>1.535126</td>\n",
              "      <td>1.890489</td>\n",
              "      <td>-0.375612</td>\n",
              "      <td>-0.430444</td>\n",
              "      <td>-0.146749</td>\n",
              "      <td>1.087084</td>\n",
              "      <td>-0.243890</td>\n",
              "      <td>0.281190</td>\n",
              "    </tr>\n",
              "    <tr>\n",
              "      <th>2</th>\n",
              "      <td>1.579888</td>\n",
              "      <td>0.456187</td>\n",
              "      <td>1.566503</td>\n",
              "      <td>1.558884</td>\n",
              "      <td>0.942210</td>\n",
              "      <td>1.052926</td>\n",
              "      <td>1.363478</td>\n",
              "      <td>2.037231</td>\n",
              "      <td>0.939685</td>\n",
              "      <td>-0.398008</td>\n",
              "      <td>...</td>\n",
              "      <td>1.511870</td>\n",
              "      <td>-0.023974</td>\n",
              "      <td>1.347475</td>\n",
              "      <td>1.456285</td>\n",
              "      <td>0.527407</td>\n",
              "      <td>1.082932</td>\n",
              "      <td>0.854974</td>\n",
              "      <td>1.955000</td>\n",
              "      <td>1.152255</td>\n",
              "      <td>0.201391</td>\n",
              "    </tr>\n",
              "    <tr>\n",
              "      <th>3</th>\n",
              "      <td>-0.768909</td>\n",
              "      <td>0.253732</td>\n",
              "      <td>-0.592687</td>\n",
              "      <td>-0.764464</td>\n",
              "      <td>3.283553</td>\n",
              "      <td>3.402909</td>\n",
              "      <td>1.915897</td>\n",
              "      <td>1.451707</td>\n",
              "      <td>2.867383</td>\n",
              "      <td>4.910919</td>\n",
              "      <td>...</td>\n",
              "      <td>-0.281464</td>\n",
              "      <td>0.133984</td>\n",
              "      <td>-0.249939</td>\n",
              "      <td>-0.550021</td>\n",
              "      <td>3.394275</td>\n",
              "      <td>3.893397</td>\n",
              "      <td>1.989588</td>\n",
              "      <td>2.175786</td>\n",
              "      <td>6.046041</td>\n",
              "      <td>4.935010</td>\n",
              "    </tr>\n",
              "    <tr>\n",
              "      <th>4</th>\n",
              "      <td>1.750297</td>\n",
              "      <td>-1.151816</td>\n",
              "      <td>1.776573</td>\n",
              "      <td>1.826229</td>\n",
              "      <td>0.280372</td>\n",
              "      <td>0.539340</td>\n",
              "      <td>1.371011</td>\n",
              "      <td>1.428493</td>\n",
              "      <td>-0.009560</td>\n",
              "      <td>-0.562450</td>\n",
              "      <td>...</td>\n",
              "      <td>1.298575</td>\n",
              "      <td>-1.466770</td>\n",
              "      <td>1.338539</td>\n",
              "      <td>1.220724</td>\n",
              "      <td>0.220556</td>\n",
              "      <td>-0.313395</td>\n",
              "      <td>0.613179</td>\n",
              "      <td>0.729259</td>\n",
              "      <td>-0.868353</td>\n",
              "      <td>-0.397100</td>\n",
              "    </tr>\n",
              "  </tbody>\n",
              "</table>\n",
              "<p>5 rows × 30 columns</p>\n",
              "</div>\n",
              "    <div class=\"colab-df-buttons\">\n",
              "\n",
              "  <div class=\"colab-df-container\">\n",
              "    <button class=\"colab-df-convert\" onclick=\"convertToInteractive('df-d1bfd73b-0e0a-4b16-9616-609aa600406a')\"\n",
              "            title=\"Convert this dataframe to an interactive table.\"\n",
              "            style=\"display:none;\">\n",
              "\n",
              "  <svg xmlns=\"http://www.w3.org/2000/svg\" height=\"24px\" viewBox=\"0 -960 960 960\">\n",
              "    <path d=\"M120-120v-720h720v720H120Zm60-500h600v-160H180v160Zm220 220h160v-160H400v160Zm0 220h160v-160H400v160ZM180-400h160v-160H180v160Zm440 0h160v-160H620v160ZM180-180h160v-160H180v160Zm440 0h160v-160H620v160Z\"/>\n",
              "  </svg>\n",
              "    </button>\n",
              "\n",
              "  <style>\n",
              "    .colab-df-container {\n",
              "      display:flex;\n",
              "      gap: 12px;\n",
              "    }\n",
              "\n",
              "    .colab-df-convert {\n",
              "      background-color: #E8F0FE;\n",
              "      border: none;\n",
              "      border-radius: 50%;\n",
              "      cursor: pointer;\n",
              "      display: none;\n",
              "      fill: #1967D2;\n",
              "      height: 32px;\n",
              "      padding: 0 0 0 0;\n",
              "      width: 32px;\n",
              "    }\n",
              "\n",
              "    .colab-df-convert:hover {\n",
              "      background-color: #E2EBFA;\n",
              "      box-shadow: 0px 1px 2px rgba(60, 64, 67, 0.3), 0px 1px 3px 1px rgba(60, 64, 67, 0.15);\n",
              "      fill: #174EA6;\n",
              "    }\n",
              "\n",
              "    .colab-df-buttons div {\n",
              "      margin-bottom: 4px;\n",
              "    }\n",
              "\n",
              "    [theme=dark] .colab-df-convert {\n",
              "      background-color: #3B4455;\n",
              "      fill: #D2E3FC;\n",
              "    }\n",
              "\n",
              "    [theme=dark] .colab-df-convert:hover {\n",
              "      background-color: #434B5C;\n",
              "      box-shadow: 0px 1px 3px 1px rgba(0, 0, 0, 0.15);\n",
              "      filter: drop-shadow(0px 1px 2px rgba(0, 0, 0, 0.3));\n",
              "      fill: #FFFFFF;\n",
              "    }\n",
              "  </style>\n",
              "\n",
              "    <script>\n",
              "      const buttonEl =\n",
              "        document.querySelector('#df-d1bfd73b-0e0a-4b16-9616-609aa600406a button.colab-df-convert');\n",
              "      buttonEl.style.display =\n",
              "        google.colab.kernel.accessAllowed ? 'block' : 'none';\n",
              "\n",
              "      async function convertToInteractive(key) {\n",
              "        const element = document.querySelector('#df-d1bfd73b-0e0a-4b16-9616-609aa600406a');\n",
              "        const dataTable =\n",
              "          await google.colab.kernel.invokeFunction('convertToInteractive',\n",
              "                                                    [key], {});\n",
              "        if (!dataTable) return;\n",
              "\n",
              "        const docLinkHtml = 'Like what you see? Visit the ' +\n",
              "          '<a target=\"_blank\" href=https://colab.research.google.com/notebooks/data_table.ipynb>data table notebook</a>'\n",
              "          + ' to learn more about interactive tables.';\n",
              "        element.innerHTML = '';\n",
              "        dataTable['output_type'] = 'display_data';\n",
              "        await google.colab.output.renderOutput(dataTable, element);\n",
              "        const docLink = document.createElement('div');\n",
              "        docLink.innerHTML = docLinkHtml;\n",
              "        element.appendChild(docLink);\n",
              "      }\n",
              "    </script>\n",
              "  </div>\n",
              "\n",
              "\n",
              "    <div id=\"df-fef96106-d051-48df-8ed2-f99c06c0ac2d\">\n",
              "      <button class=\"colab-df-quickchart\" onclick=\"quickchart('df-fef96106-d051-48df-8ed2-f99c06c0ac2d')\"\n",
              "                title=\"Suggest charts\"\n",
              "                style=\"display:none;\">\n",
              "\n",
              "<svg xmlns=\"http://www.w3.org/2000/svg\" height=\"24px\"viewBox=\"0 0 24 24\"\n",
              "     width=\"24px\">\n",
              "    <g>\n",
              "        <path d=\"M19 3H5c-1.1 0-2 .9-2 2v14c0 1.1.9 2 2 2h14c1.1 0 2-.9 2-2V5c0-1.1-.9-2-2-2zM9 17H7v-7h2v7zm4 0h-2V7h2v10zm4 0h-2v-4h2v4z\"/>\n",
              "    </g>\n",
              "</svg>\n",
              "      </button>\n",
              "\n",
              "<style>\n",
              "  .colab-df-quickchart {\n",
              "      --bg-color: #E8F0FE;\n",
              "      --fill-color: #1967D2;\n",
              "      --hover-bg-color: #E2EBFA;\n",
              "      --hover-fill-color: #174EA6;\n",
              "      --disabled-fill-color: #AAA;\n",
              "      --disabled-bg-color: #DDD;\n",
              "  }\n",
              "\n",
              "  [theme=dark] .colab-df-quickchart {\n",
              "      --bg-color: #3B4455;\n",
              "      --fill-color: #D2E3FC;\n",
              "      --hover-bg-color: #434B5C;\n",
              "      --hover-fill-color: #FFFFFF;\n",
              "      --disabled-bg-color: #3B4455;\n",
              "      --disabled-fill-color: #666;\n",
              "  }\n",
              "\n",
              "  .colab-df-quickchart {\n",
              "    background-color: var(--bg-color);\n",
              "    border: none;\n",
              "    border-radius: 50%;\n",
              "    cursor: pointer;\n",
              "    display: none;\n",
              "    fill: var(--fill-color);\n",
              "    height: 32px;\n",
              "    padding: 0;\n",
              "    width: 32px;\n",
              "  }\n",
              "\n",
              "  .colab-df-quickchart:hover {\n",
              "    background-color: var(--hover-bg-color);\n",
              "    box-shadow: 0 1px 2px rgba(60, 64, 67, 0.3), 0 1px 3px 1px rgba(60, 64, 67, 0.15);\n",
              "    fill: var(--button-hover-fill-color);\n",
              "  }\n",
              "\n",
              "  .colab-df-quickchart-complete:disabled,\n",
              "  .colab-df-quickchart-complete:disabled:hover {\n",
              "    background-color: var(--disabled-bg-color);\n",
              "    fill: var(--disabled-fill-color);\n",
              "    box-shadow: none;\n",
              "  }\n",
              "\n",
              "  .colab-df-spinner {\n",
              "    border: 2px solid var(--fill-color);\n",
              "    border-color: transparent;\n",
              "    border-bottom-color: var(--fill-color);\n",
              "    animation:\n",
              "      spin 1s steps(1) infinite;\n",
              "  }\n",
              "\n",
              "  @keyframes spin {\n",
              "    0% {\n",
              "      border-color: transparent;\n",
              "      border-bottom-color: var(--fill-color);\n",
              "      border-left-color: var(--fill-color);\n",
              "    }\n",
              "    20% {\n",
              "      border-color: transparent;\n",
              "      border-left-color: var(--fill-color);\n",
              "      border-top-color: var(--fill-color);\n",
              "    }\n",
              "    30% {\n",
              "      border-color: transparent;\n",
              "      border-left-color: var(--fill-color);\n",
              "      border-top-color: var(--fill-color);\n",
              "      border-right-color: var(--fill-color);\n",
              "    }\n",
              "    40% {\n",
              "      border-color: transparent;\n",
              "      border-right-color: var(--fill-color);\n",
              "      border-top-color: var(--fill-color);\n",
              "    }\n",
              "    60% {\n",
              "      border-color: transparent;\n",
              "      border-right-color: var(--fill-color);\n",
              "    }\n",
              "    80% {\n",
              "      border-color: transparent;\n",
              "      border-right-color: var(--fill-color);\n",
              "      border-bottom-color: var(--fill-color);\n",
              "    }\n",
              "    90% {\n",
              "      border-color: transparent;\n",
              "      border-bottom-color: var(--fill-color);\n",
              "    }\n",
              "  }\n",
              "</style>\n",
              "\n",
              "      <script>\n",
              "        async function quickchart(key) {\n",
              "          const quickchartButtonEl =\n",
              "            document.querySelector('#' + key + ' button');\n",
              "          quickchartButtonEl.disabled = true;  // To prevent multiple clicks.\n",
              "          quickchartButtonEl.classList.add('colab-df-spinner');\n",
              "          try {\n",
              "            const charts = await google.colab.kernel.invokeFunction(\n",
              "                'suggestCharts', [key], {});\n",
              "          } catch (error) {\n",
              "            console.error('Error during call to suggestCharts:', error);\n",
              "          }\n",
              "          quickchartButtonEl.classList.remove('colab-df-spinner');\n",
              "          quickchartButtonEl.classList.add('colab-df-quickchart-complete');\n",
              "        }\n",
              "        (() => {\n",
              "          let quickchartButtonEl =\n",
              "            document.querySelector('#df-fef96106-d051-48df-8ed2-f99c06c0ac2d button');\n",
              "          quickchartButtonEl.style.display =\n",
              "            google.colab.kernel.accessAllowed ? 'block' : 'none';\n",
              "        })();\n",
              "      </script>\n",
              "    </div>\n",
              "\n",
              "    </div>\n",
              "  </div>\n"
            ],
            "application/vnd.google.colaboratory.intrinsic+json": {
              "type": "dataframe",
              "variable_name": "breast_input"
            }
          },
          "metadata": {},
          "execution_count": 89
        }
      ]
    },
    {
      "cell_type": "code",
      "source": [
        "\n",
        "# Define features (X) and target (y) for the breast cancer dataset\n",
        "X = breast.data\n",
        "y = breast.target\n",
        "\n",
        "# Split the breast cancer data into training and testing sets\n",
        "X_train, X_test, y_train, y_test = train_test_split(X, y, test_size=0.2, random_state=42) # Using a fixed random_state for reproducibility\n",
        "\n",
        "print(\"Shape of X_train:\", X_train.shape)\n",
        "print(\"Shape of X_test:\", X_test.shape)\n",
        "print(\"Shape of y_train:\", y_train.shape)\n",
        "print(\"Shape of y_test:\", y_test.shape)"
      ],
      "metadata": {
        "colab": {
          "base_uri": "https://localhost:8080/"
        },
        "id": "C_L4TMbVQ-Oz",
        "outputId": "503462a2-6535-4a54-82b3-ad173cad0469"
      },
      "execution_count": null,
      "outputs": [
        {
          "output_type": "stream",
          "name": "stdout",
          "text": [
            "Shape of X_train: (455, 30)\n",
            "Shape of X_test: (114, 30)\n",
            "Shape of y_train: (455,)\n",
            "Shape of y_test: (114,)\n"
          ]
        }
      ]
    },
    {
      "cell_type": "code",
      "source": [
        "from sklearn.svm import SVC\n",
        "from sklearn.model_selection import train_test_split\n",
        "from sklearn.metrics import classification_report\n",
        "\n",
        "test_size = .2\n",
        "seed = 0\n",
        "\n",
        "# Use the scaled data\n",
        "X = scaled_breast_data\n",
        "y = breast.target\n",
        "\n",
        "X_train, X_test, Y_train, Y_test = train_test_split(X, y, test_size=test_size,\n",
        "random_state=seed)\n",
        "model_sigmoid = SVC(kernel='sigmoid', C=1E10)\n",
        "model_sigmoid.fit(X_train, Y_train)\n",
        "predicted_sigmoid = model_sigmoid.predict(X_test)\n",
        "report_sigmoid = classification_report(Y_test, predicted_sigmoid)\n",
        "print(\"Classification Report for SVC with Sigmoid Kernel:\")\n",
        "print(report_sigmoid)"
      ],
      "metadata": {
        "colab": {
          "base_uri": "https://localhost:8080/"
        },
        "id": "Siu-UbAl1FAf",
        "outputId": "913d254c-c544-4737-99d1-d9d55266d928"
      },
      "execution_count": null,
      "outputs": [
        {
          "output_type": "stream",
          "name": "stdout",
          "text": [
            "Classification Report for SVC with Sigmoid Kernel:\n",
            "              precision    recall  f1-score   support\n",
            "\n",
            "           0       0.84      0.87      0.85        47\n",
            "           1       0.91      0.88      0.89        67\n",
            "\n",
            "    accuracy                           0.88       114\n",
            "   macro avg       0.87      0.88      0.87       114\n",
            "weighted avg       0.88      0.88      0.88       114\n",
            "\n"
          ]
        }
      ]
    },
    {
      "cell_type": "code",
      "source": [
        "from sklearn.svm import SVC\n",
        "from sklearn.model_selection import train_test_split\n",
        "from sklearn.metrics import classification_report\n",
        "\n",
        "test_size = .2\n",
        "seed = 0\n",
        "\n",
        "# Use the scaled data\n",
        "X = scaled_breast_data\n",
        "y = breast.target\n",
        "\n",
        "X_train, X_test, Y_train, Y_test = train_test_split(X, y, test_size=test_size,\n",
        "random_state=seed)\n",
        "model_rbf = SVC(kernel='rbf', C=1E10)\n",
        "model_rbf.fit(X_train, Y_train)\n",
        "predicted_rbf = model_rbf.predict(X_test)\n",
        "report_rbf = classification_report(Y_test, predicted_rbf)\n",
        "print(\"Classification Report for SVC with RBF Kernel:\")\n",
        "print(report_rbf)"
      ],
      "metadata": {
        "colab": {
          "base_uri": "https://localhost:8080/"
        },
        "id": "Re3Z5271V_8d",
        "outputId": "31d81d2c-6336-4575-c59e-f53b78850f34"
      },
      "execution_count": null,
      "outputs": [
        {
          "output_type": "stream",
          "name": "stdout",
          "text": [
            "Classification Report for SVC with RBF Kernel:\n",
            "              precision    recall  f1-score   support\n",
            "\n",
            "           0       0.90      0.98      0.94        47\n",
            "           1       0.98      0.93      0.95        67\n",
            "\n",
            "    accuracy                           0.95       114\n",
            "   macro avg       0.94      0.95      0.95       114\n",
            "weighted avg       0.95      0.95      0.95       114\n",
            "\n"
          ]
        }
      ]
    },
    {
      "cell_type": "code",
      "source": [
        "\n",
        "# Get classification reports as dictionaries\n",
        "report_sigmoid_dict = classification_report(Y_test, model_sigmoid.predict(X_test), target_names=breast.target_names, output_dict=True)\n",
        "report_rbf_dict = classification_report(Y_test, model_rbf.predict(X_test), target_names=breast.target_names, output_dict=True)\n",
        "\n",
        "# Extract metrics for plotting\n",
        "metrics = ['precision', 'recall', 'f1-score']\n",
        "classes = breast.target_names\n",
        "\n",
        "sigmoid_scores = {metric: [report_sigmoid_dict[cls][metric] for cls in classes] for metric in metrics}\n",
        "rbf_scores = {metric: [report_rbf_dict[cls][metric] for cls in classes] for metric in metrics}\n",
        "\n",
        "# Create a DataFrame for easier plotting\n",
        "df_sigmoid = pd.DataFrame(sigmoid_scores, index=classes)\n",
        "df_rbf = pd.DataFrame(rbf_scores, index=classes)\n",
        "\n",
        "# Plotting\n",
        "fig, axes = plt.subplots(1, 2, figsize=(12, 5))\n",
        "\n",
        "df_sigmoid.plot(kind='bar', ax=axes[0])\n",
        "axes[0].set_title('Sigmoid Kernel Performance')\n",
        "axes[0].set_ylabel('Score')\n",
        "axes[0].tick_params(axis='x', rotation=0)\n",
        "\n",
        "df_rbf.plot(kind='bar', ax=axes[1])\n",
        "axes[1].set_title('RBF Kernel Performance')\n",
        "axes[1].set_ylabel('Score')\n",
        "axes[1].tick_params(axis='x', rotation=0)\n",
        "\n",
        "plt.tight_layout()\n",
        "plt.show()"
      ],
      "metadata": {
        "colab": {
          "base_uri": "https://localhost:8080/",
          "height": 501
        },
        "id": "Aqri0dF0Wz2X",
        "outputId": "09d417cb-26a7-430e-d3a7-12a4e2947fa3"
      },
      "execution_count": null,
      "outputs": [
        {
          "output_type": "display_data",
          "data": {
            "text/plain": [
              "<Figure size 1200x500 with 2 Axes>"
            ],
            "image/png": "[encoded data removed]"
          },
          "metadata": {}
        }
      ]
    },
    {
      "cell_type": "markdown",
      "source": [
        "After trying all SVM kernels the  only two that would run was RBF and Sigmoid these two provided similar results for both malignant and benign accross both kernel methods."
      ],
      "metadata": {
        "id": "K7pRQrXwYF1t"
      }
    },
    {
      "cell_type": "markdown",
      "source": [
        "Part 2"
      ],
      "metadata": {
        "id": "xW-f8jPleSGf"
      }
    },
    {
      "cell_type": "code",
      "source": [
        "url = 'https://raw.githubusercontent.com/HamedTabkhi/Intro-to-ML/main/Dataset/Housing.csv'\n",
        "\n",
        "df = pd.read_csv(url)\n",
        "\n",
        "# Convert 'yes'/'no' columns to 1/0\n",
        "yes_no_cols = ['mainroad', 'guestroom', 'basement', 'hotwaterheating', 'airconditioning', 'prefarea']\n",
        "for col in yes_no_cols:\n",
        "    df[col] = df[col].apply(lambda x: 1 if x == 'yes' else 0)\n",
        "\n",
        "# Select features (X) and target (y)\n",
        "X_housing = df[['area', 'bedrooms', 'bathrooms', 'stories', 'mainroad', 'guestroom', 'basement', 'hotwaterheating', 'airconditioning', 'parking', 'prefarea']]\n",
        "y_housing = df['price']\n",
        "\n",
        "# Normalize the features using StandardScaler\n",
        "from sklearn.preprocessing import StandardScaler\n",
        "scaler = StandardScaler()\n",
        "scaled_X_housing = scaler.fit_transform(X_housing)\n",
        "scaled_X_housing = pd.DataFrame(scaled_X_housing, columns=X_housing.columns)\n",
        "\n",
        "\n",
        "print(\"Original Data Head:\")\n",
        "print(df.head())\n",
        "print(\"\\nScaled Features Head:\")\n",
        "print(scaled_X_housing.head())"
      ],
      "metadata": {
        "colab": {
          "base_uri": "https://localhost:8080/"
        },
        "id": "rvkG6p3FfBJH",
        "outputId": "b0fdb0b0-d406-468b-a79c-608a12b20d92"
      },
      "execution_count": null,
      "outputs": [
        {
          "output_type": "stream",
          "name": "stdout",
          "text": [
            "Original Data Head:\n",
            "      price  area  bedrooms  bathrooms  stories  mainroad  guestroom  \\\n",
            "0  13300000  7420         4          2        3         1          0   \n",
            "1  12250000  8960         4          4        4         1          0   \n",
            "2  12250000  9960         3          2        2         1          0   \n",
            "3  12215000  7500         4          2        2         1          0   \n",
            "4  11410000  7420         4          1        2         1          1   \n",
            "\n",
            "   basement  hotwaterheating  airconditioning  parking  prefarea  \\\n",
            "0         0                0                1        2         1   \n",
            "1         0                0                1        3         0   \n",
            "2         1                0                0        2         1   \n",
            "3         1                0                1        3         1   \n",
            "4         1                0                1        2         0   \n",
            "\n",
            "  furnishingstatus  \n",
            "0        furnished  \n",
            "1        furnished  \n",
            "2   semi-furnished  \n",
            "3        furnished  \n",
            "4        furnished  \n",
            "\n",
            "Scaled Features Head:\n",
            "       area  bedrooms  bathrooms   stories  mainroad  guestroom  basement  \\\n",
            "0  1.046726  1.403419   1.421812  1.378217  0.405623  -0.465315 -0.734539   \n",
            "1  1.757010  1.403419   5.405809  2.532024  0.405623  -0.465315 -0.734539   \n",
            "2  2.218232  0.047278   1.421812  0.224410  0.405623  -0.465315  1.361397   \n",
            "3  1.083624  1.403419   1.421812  0.224410  0.405623  -0.465315  1.361397   \n",
            "4  1.046726  1.403419  -0.570187  0.224410  0.405623   2.149083  1.361397   \n",
            "\n",
            "   hotwaterheating  airconditioning   parking  prefarea  \n",
            "0        -0.219265         1.472618  1.517692  1.804941  \n",
            "1        -0.219265         1.472618  2.679409 -0.554035  \n",
            "2        -0.219265        -0.679063  1.517692  1.804941  \n",
            "3        -0.219265         1.472618  2.679409  1.804941  \n",
            "4        -0.219265         1.472618  1.517692 -0.554035  \n"
          ]
        }
      ]
    },
    {
      "cell_type": "code",
      "source": [
        "from sklearn.model_selection import train_test_split\n",
        "\n",
        "# Define features (X) and target (y) for the housing dataset\n",
        "# Now using the scaled features\n",
        "X_housing = scaled_X_housing\n",
        "y_housing = df['price']\n",
        "\n",
        "# Split the housing data into training and testing sets\n",
        "X_train_housing, X_test_housing, y_train_housing, y_test_housing = train_test_split(X_housing, y_housing, test_size=0.2, random_state=42) # Using a fixed random_state for reproducibility\n",
        "\n",
        "print(\"Shape of X_train_housing:\", X_train_housing.shape)\n",
        "print(\"Shape of X_test_housing:\", X_test_housing.shape)\n",
        "print(\"Shape of y_train_housing:\", y_train_housing.shape)\n",
        "print(\"Shape of y_test_housing:\", y_test_housing.shape)"
      ],
      "metadata": {
        "id": "V2Bxj_bBfAbF",
        "colab": {
          "base_uri": "https://localhost:8080/"
        },
        "outputId": "98903877-e2aa-4e39-e9a8-caa90dd07143"
      },
      "execution_count": null,
      "outputs": [
        {
          "output_type": "stream",
          "name": "stdout",
          "text": [
            "Shape of X_train_housing: (436, 11)\n",
            "Shape of X_test_housing: (109, 11)\n",
            "Shape of y_train_housing: (436,)\n",
            "Shape of y_test_housing: (109,)\n"
          ]
        }
      ]
    },
    {
      "cell_type": "code",
      "source": [
        "from sklearn.svm import SVR\n",
        "from sklearn.metrics import mean_squared_error, r2_score\n",
        "from sklearn.model_selection import train_test_split\n",
        "from sklearn.preprocessing import StandardScaler\n",
        "\n",
        "\n",
        "test_size = .2\n",
        "seed = 0\n",
        "# Use the scaled data for splitting\n",
        "X_train_housing, X_test_housing, y_train_housing, y_test_housing = train_test_split(scaled_X_housing, y_housing, test_size=test_size,\n",
        "random_state=seed)\n",
        "\n",
        "# Create and train an SVR model\n",
        "model_svr_rbf = SVR(kernel='rbf', C=1E5) # Using RBF kernel with a potentially more reasonable C\n",
        "model_svr_rbf.fit(X_train_housing, y_train_housing)\n",
        "\n",
        "# Make predictions on the test set\n",
        "house_predicted_svr_rbf = model_svr_rbf.predict(X_test_housing)\n",
        "\n",
        "# Evaluate the model using regression metrics\n",
        "mse_rbf = mean_squared_error(y_test_housing, house_predicted_svr_rbf)\n",
        "r2_rbf = r2_score(y_test_housing, house_predicted_svr_rbf)\n",
        "\n",
        "print(f\"Mean Squared Error (MSE): {mse_rbf}\")\n",
        "print(f\"R-squared (R2): {r2_rbf}\")"
      ],
      "metadata": {
        "id": "to85E-yYewun",
        "colab": {
          "base_uri": "https://localhost:8080/"
        },
        "outputId": "e455e4d0-81ff-40f5-c783-d306f1d246ce"
      },
      "execution_count": null,
      "outputs": [
        {
          "output_type": "stream",
          "name": "stdout",
          "text": [
            "Mean Squared Error (MSE): 1497011429789.272\n",
            "R-squared (R2): 0.48047822660186423\n"
          ]
        }
      ]
    },
    {
      "cell_type": "code",
      "source": [
        "from sklearn.svm import SVR\n",
        "from sklearn.metrics import mean_squared_error, r2_score\n",
        "from sklearn.model_selection import train_test_split\n",
        "from sklearn.preprocessing import StandardScaler\n",
        "\n",
        "test_size = .2\n",
        "seed = 0\n",
        "# Use the scaled data for splitting\n",
        "X_train_housing, X_test_housing, y_train_housing, y_test_housing = train_test_split(scaled_X_housing, y_housing, test_size=test_size,\n",
        "random_state=seed)\n",
        "\n",
        "# Create and train an SVR model\n",
        "model_svr_poly = SVR(kernel='poly', C=1E5) # Using poly kernel with a potentially more reasonable C\n",
        "model_svr_poly.fit(X_train_housing, y_train_housing)\n",
        "\n",
        "# Make predictions on the test set\n",
        "house_predicted_svr_poly = model_svr_poly.predict(X_test_housing)\n",
        "\n",
        "# Evaluate the model using regression metrics\n",
        "mse_poly = mean_squared_error(y_test_housing, house_predicted_svr_poly)\n",
        "r2_poly = r2_score(y_test_housing, house_predicted_svr_poly)\n",
        "\n",
        "print(f\"Mean Squared Error (MSE): {mse_poly}\")\n",
        "print(f\"R-squared (R2): {r2_poly}\")"
      ],
      "metadata": {
        "colab": {
          "base_uri": "https://localhost:8080/"
        },
        "id": "bnCApGN4sJTZ",
        "outputId": "7822c77b-44dc-4ff5-a185-2c1244d01574"
      },
      "execution_count": null,
      "outputs": [
        {
          "output_type": "stream",
          "name": "stdout",
          "text": [
            "Mean Squared Error (MSE): 1414338305073.0398\n",
            "R-squared (R2): 0.5091690485356608\n"
          ]
        }
      ]
    },
    {
      "cell_type": "code",
      "source": [
        "from sklearn.svm import SVR\n",
        "from sklearn.metrics import mean_squared_error, r2_score\n",
        "from sklearn.model_selection import train_test_split\n",
        "from sklearn.preprocessing import StandardScaler\n",
        "\n",
        "test_size = .2\n",
        "seed = 0\n",
        "# Use the scaled data for splitting\n",
        "X_train_housing, X_test_housing, y_train_housing, y_test_housing = train_test_split(scaled_X_housing, y_housing, test_size=test_size,\n",
        "random_state=seed)\n",
        "\n",
        "# Create and train an SVR model\n",
        "model_svr_sigmoid = SVR(kernel='sigmoid', C=1E5) # Using sigmoid kernel with a potentially more reasonable C\n",
        "model_svr_sigmoid.fit(X_train_housing, y_train_housing)\n",
        "\n",
        "# Make predictions on the test set\n",
        "house_predicted_svr_sigmoid = model_svr_sigmoid.predict(X_test_housing)\n",
        "\n",
        "# Evaluate the model using regression metrics\n",
        "mse_sigmoid = mean_squared_error(y_test_housing, house_predicted_svr_sigmoid)\n",
        "r2_sigmoid = r2_score(y_test_housing, house_predicted_svr_sigmoid)\n",
        "\n",
        "print(f\"Mean Squared Error (MSE): {mse_sigmoid}\")\n",
        "print(f\"R-squared (R2): {r2_sigmoid}\")"
      ],
      "metadata": {
        "colab": {
          "base_uri": "https://localhost:8080/"
        },
        "id": "ZrnPldMpsPeL",
        "outputId": "5c511f44-184c-4cf6-d9fa-90963a847c7b"
      },
      "execution_count": null,
      "outputs": [
        {
          "output_type": "stream",
          "name": "stdout",
          "text": [
            "Mean Squared Error (MSE): 1118408301058.9658\n",
            "R-squared (R2): 0.6118683849787705\n"
          ]
        }
      ]
    },
    {
      "cell_type": "code",
      "metadata": {
        "colab": {
          "base_uri": "https://localhost:8080/",
          "height": 608
        },
        "id": "fdb63e30",
        "outputId": "e2405eb7-3a1a-455c-e87a-4a603766597c"
      },
      "source": [
        "# Calculate the residuals\n",
        "residuals_rbf = y_test_housing - house_predicted_svr_rbf\n",
        "\n",
        "# Create a scatter plot of predicted values vs residuals\n",
        "plt.figure(figsize=(10, 6))\n",
        "plt.scatter(house_predicted_svr_rbf, residuals_rbf, alpha=0.5)\n",
        "plt.axhline(y=0, color='r', linestyle='--') # Add a horizontal line at zero\n",
        "plt.xlabel('Predicted House Price')\n",
        "plt.ylabel('Residuals')\n",
        "plt.title('Residuals RBF')\n",
        "plt.grid(True)\n",
        "plt.show()\n",
        "print(f\"Mean Squared Error (MSE): {mse_rbf}\")\n",
        "print(f\"R-squared (R2): {r2_rbf}\")"
      ],
      "execution_count": null,
      "outputs": [
        {
          "output_type": "display_data",
          "data": {
            "text/plain": [
              "<Figure size 1000x600 with 1 Axes>"
            ],
            "image/png": "[encoded data removed]"
          },
          "metadata": {}
        },
        {
          "output_type": "stream",
          "name": "stdout",
          "text": [
            "Mean Squared Error (MSE): 1497011429789.272\n",
            "R-squared (R2): 0.48047822660186423\n"
          ]
        }
      ]
    },
    {
      "cell_type": "code",
      "source": [
        "# Calculate the residuals\n",
        "residuals_poly = y_test_housing - house_predicted_svr_poly\n",
        "\n",
        "# Create a scatter plot of predicted values vs residuals\n",
        "plt.figure(figsize=(10, 6))\n",
        "plt.scatter(house_predicted_svr_poly, residuals_poly, alpha=0.5)\n",
        "plt.axhline(y=0, color='r', linestyle='--') # Add a horizontal line at zero\n",
        "plt.xlabel('Predicted House Price')\n",
        "plt.ylabel('Residuals')\n",
        "plt.title('Residuals Poly')\n",
        "plt.grid(True)\n",
        "plt.show()\n",
        "print(f\"Mean Squared Error (MSE): {mse_poly}\")\n",
        "print(f\"R-squared (R2): {r2_poly}\")"
      ],
      "metadata": {
        "colab": {
          "base_uri": "https://localhost:8080/",
          "height": 608
        },
        "id": "fpjF0KGdZD9L",
        "outputId": "ab25b7c3-c3d4-4137-af13-15c1b797e4e8"
      },
      "execution_count": null,
      "outputs": [
        {
          "output_type": "display_data",
          "data": {
            "text/plain": [
              "<Figure size 1000x600 with 1 Axes>"
            ],
            "image/png": "[encoded data removed]"
          },
          "metadata": {}
        },
        {
          "output_type": "stream",
          "name": "stdout",
          "text": [
            "Mean Squared Error (MSE): 1414338305073.0398\n",
            "R-squared (R2): 0.5091690485356608\n"
          ]
        }
      ]
    },
    {
      "cell_type": "code",
      "source": [
        "# Calculate the residuals\n",
        "residuals_sigmoid = y_test_housing - house_predicted_svr_sigmoid\n",
        "\n",
        "# Create a scatter plot of predicted values vs residuals\n",
        "plt.figure(figsize=(10, 6))\n",
        "plt.scatter(house_predicted_svr_sigmoid, residuals_sigmoid, alpha=0.5)\n",
        "plt.axhline(y=0, color='r', linestyle='--') # Add a horizontal line at zero\n",
        "plt.xlabel('Predicted House Price')\n",
        "plt.ylabel('Residuals')\n",
        "plt.title('Residuals Sigmoid')\n",
        "plt.grid(True)\n",
        "plt.show()\n",
        "print(f\"Mean Squared Error (MSE): {mse_sigmoid}\")\n",
        "print(f\"R-squared (R2): {r2_sigmoid}\")"
      ],
      "metadata": {
        "colab": {
          "base_uri": "https://localhost:8080/",
          "height": 608
        },
        "id": "fUpfRTD2Z8Zd",
        "outputId": "22ce52df-1a24-4afb-e110-cb687b190d80"
      },
      "execution_count": null,
      "outputs": [
        {
          "output_type": "display_data",
          "data": {
            "text/plain": [
              "<Figure size 1000x600 with 1 Axes>"
            ],
            "image/png": "[encoded data removed]"
          },
          "metadata": {}
        },
        {
          "output_type": "stream",
          "name": "stdout",
          "text": [
            "Mean Squared Error (MSE): 1118408301058.9658\n",
            "R-squared (R2): 0.6118683849787705\n"
          ]
        }
      ]
    },
    {
      "cell_type": "markdown",
      "source": [
        "The Sigmoid model seems to be the best as the Mean Squared Error is the lowest and the r2 value is the highest. This tells us that the overall mean of error on the sigmoid is best and the r2 value being highest tells us this model does the best at generalizing.\n"
      ],
      "metadata": {
        "id": "3ndNxt1rbSd6"
      }
    }
  ]
}